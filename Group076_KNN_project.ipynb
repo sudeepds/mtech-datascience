{
  "nbformat": 4,
  "nbformat_minor": 0,
  "metadata": {
    "colab": {
      "name": "Group076_KNN_project.ipynb",
      "provenance": [],
      "collapsed_sections": [
        "PIVobA-8azZT"
      ],
      "include_colab_link": true
    },
    "kernelspec": {
      "name": "python3",
      "display_name": "Python 3"
    },
    "language_info": {
      "name": "python"
    }
  },
  "cells": [
    {
      "cell_type": "markdown",
      "metadata": {
        "id": "view-in-github",
        "colab_type": "text"
      },
      "source": [
        "<a href=\"https://colab.research.google.com/github/sudeepds/mtech-datascience/blob/main/Group076_KNN_project.ipynb\" target=\"_parent\"><img src=\"https://colab.research.google.com/assets/colab-badge.svg\" alt=\"Open In Colab\"/></a>"
      ]
    },
    {
      "cell_type": "markdown",
      "source": [
        "# Assignment 02 - Set 02\n",
        "Dataset : KNN_Project.csv\n",
        "Group : 076\n",
        "---\n",
        "Group Members:\n",
        "\n",
        "1. ABHIJEET SHARMA - SC202004817\n",
        "\n",
        "2. JAGATHISHWARAN S - 2020SC04646 \n",
        "\n",
        "3. SUDEEP GHOSH - 2020SC04781\n"
      ],
      "metadata": {
        "id": "qIbkK9WojHfZ"
      }
    },
    {
      "cell_type": "markdown",
      "source": [
        "----\n",
        "# Import the required libraries.\n",
        "----\n"
      ],
      "metadata": {
        "id": "vVBCTq9VC1NF"
      }
    },
    {
      "cell_type": "markdown",
      "source": [
        "* Importing all the required libraries\n",
        "\n",
        "\n"
      ],
      "metadata": {
        "id": "7eEt_zQXYW2B"
      }
    },
    {
      "cell_type": "code",
      "source": [
        "import pandas as pd\n",
        "import numpy as np\n",
        "import seaborn as sns\n",
        "import math\n",
        "import matplotlib.pyplot as plt\n",
        "from sklearn.preprocessing import StandardScaler\n",
        "from sklearn.model_selection import train_test_split\n",
        "from sklearn.metrics import classification_report, confusion_matrix\n",
        "from sklearn.neighbors import KNeighborsClassifier\n",
        "from scipy.stats import iqr\n",
        "from scipy import stats"
      ],
      "metadata": {
        "id": "Z3dxMCRZDTJa"
      },
      "execution_count": null,
      "outputs": []
    },
    {
      "cell_type": "markdown",
      "source": [
        "----\n",
        "# Build Data Frame\n",
        "----"
      ],
      "metadata": {
        "id": "IiYYdRihC33q"
      }
    },
    {
      "cell_type": "markdown",
      "source": [
        "### Import Data"
      ],
      "metadata": {
        "id": "OpcdSpJMabob"
      }
    },
    {
      "cell_type": "code",
      "source": [
        "raw_df = pd.read_csv('KNN_Project')"
      ],
      "metadata": {
        "id": "HGJjcXuAFBTd"
      },
      "execution_count": null,
      "outputs": []
    },
    {
      "cell_type": "markdown",
      "source": [
        "### Print top 10 rows"
      ],
      "metadata": {
        "id": "ZQ67tsb8afRG"
      }
    },
    {
      "cell_type": "code",
      "source": [
        "raw_df.head(10)"
      ],
      "metadata": {
        "colab": {
          "base_uri": "https://localhost:8080/",
          "height": 363
        },
        "id": "QYzNOpDeFgoR",
        "outputId": "0888cf3a-d62e-480f-97fc-28c48c74ce4e"
      },
      "execution_count": null,
      "outputs": [
        {
          "output_type": "execute_result",
          "data": {
            "text/html": [
              "\n",
              "  <div id=\"df-2e1ae4d9-bc94-40a8-bf21-e3569d05c7f7\">\n",
              "    <div class=\"colab-df-container\">\n",
              "      <div>\n",
              "<style scoped>\n",
              "    .dataframe tbody tr th:only-of-type {\n",
              "        vertical-align: middle;\n",
              "    }\n",
              "\n",
              "    .dataframe tbody tr th {\n",
              "        vertical-align: top;\n",
              "    }\n",
              "\n",
              "    .dataframe thead th {\n",
              "        text-align: right;\n",
              "    }\n",
              "</style>\n",
              "<table border=\"1\" class=\"dataframe\">\n",
              "  <thead>\n",
              "    <tr style=\"text-align: right;\">\n",
              "      <th></th>\n",
              "      <th>XVPM</th>\n",
              "      <th>GWYH</th>\n",
              "      <th>TRAT</th>\n",
              "      <th>TLLZ</th>\n",
              "      <th>IGGA</th>\n",
              "      <th>HYKR</th>\n",
              "      <th>EDFS</th>\n",
              "      <th>GUUB</th>\n",
              "      <th>MGJM</th>\n",
              "      <th>JHZC</th>\n",
              "      <th>TARGET CLASS</th>\n",
              "    </tr>\n",
              "  </thead>\n",
              "  <tbody>\n",
              "    <tr>\n",
              "      <th>0</th>\n",
              "      <td>1536.670614</td>\n",
              "      <td>817.988525</td>\n",
              "      <td>2565.995189</td>\n",
              "      <td>358.347163</td>\n",
              "      <td>550.417491</td>\n",
              "      <td>1618.870897</td>\n",
              "      <td>2147.641254</td>\n",
              "      <td>330.727893</td>\n",
              "      <td>1494.878631</td>\n",
              "      <td>845.136088</td>\n",
              "      <td>0</td>\n",
              "    </tr>\n",
              "    <tr>\n",
              "      <th>1</th>\n",
              "      <td>1113.402760</td>\n",
              "      <td>577.587332</td>\n",
              "      <td>2644.141273</td>\n",
              "      <td>280.428203</td>\n",
              "      <td>1161.873391</td>\n",
              "      <td>2084.107872</td>\n",
              "      <td>853.404981</td>\n",
              "      <td>447.157619</td>\n",
              "      <td>1193.032521</td>\n",
              "      <td>861.081809</td>\n",
              "      <td>1</td>\n",
              "    </tr>\n",
              "    <tr>\n",
              "      <th>2</th>\n",
              "      <td>1304.035501</td>\n",
              "      <td>820.518697</td>\n",
              "      <td>2025.854469</td>\n",
              "      <td>525.562292</td>\n",
              "      <td>922.206261</td>\n",
              "      <td>2552.355407</td>\n",
              "      <td>818.676686</td>\n",
              "      <td>845.491492</td>\n",
              "      <td>1968.367513</td>\n",
              "      <td>1647.186291</td>\n",
              "      <td>1</td>\n",
              "    </tr>\n",
              "    <tr>\n",
              "      <th>3</th>\n",
              "      <td>1057.347542</td>\n",
              "      <td>1066.866418</td>\n",
              "      <td>612.000041</td>\n",
              "      <td>480.827789</td>\n",
              "      <td>419.467495</td>\n",
              "      <td>685.666983</td>\n",
              "      <td>852.867810</td>\n",
              "      <td>341.664784</td>\n",
              "      <td>1154.391368</td>\n",
              "      <td>1450.935357</td>\n",
              "      <td>0</td>\n",
              "    </tr>\n",
              "    <tr>\n",
              "      <th>4</th>\n",
              "      <td>1023.340526</td>\n",
              "      <td>1313.679056</td>\n",
              "      <td>950.622661</td>\n",
              "      <td>724.742174</td>\n",
              "      <td>843.065903</td>\n",
              "      <td>1370.554164</td>\n",
              "      <td>905.469453</td>\n",
              "      <td>658.118202</td>\n",
              "      <td>539.459350</td>\n",
              "      <td>1899.850792</td>\n",
              "      <td>0</td>\n",
              "    </tr>\n",
              "    <tr>\n",
              "      <th>5</th>\n",
              "      <td>1587.993461</td>\n",
              "      <td>667.420121</td>\n",
              "      <td>2072.048544</td>\n",
              "      <td>364.624958</td>\n",
              "      <td>905.011385</td>\n",
              "      <td>2229.178514</td>\n",
              "      <td>880.442566</td>\n",
              "      <td>568.698408</td>\n",
              "      <td>645.719217</td>\n",
              "      <td>2156.949990</td>\n",
              "      <td>1</td>\n",
              "    </tr>\n",
              "    <tr>\n",
              "      <th>6</th>\n",
              "      <td>1497.293624</td>\n",
              "      <td>822.435853</td>\n",
              "      <td>908.059366</td>\n",
              "      <td>671.797517</td>\n",
              "      <td>1280.270442</td>\n",
              "      <td>1910.066313</td>\n",
              "      <td>1052.812386</td>\n",
              "      <td>713.757499</td>\n",
              "      <td>703.951632</td>\n",
              "      <td>1088.493788</td>\n",
              "      <td>0</td>\n",
              "    </tr>\n",
              "    <tr>\n",
              "      <th>7</th>\n",
              "      <td>1172.820769</td>\n",
              "      <td>1166.958461</td>\n",
              "      <td>455.656588</td>\n",
              "      <td>445.572745</td>\n",
              "      <td>1109.894585</td>\n",
              "      <td>1045.551452</td>\n",
              "      <td>1301.821786</td>\n",
              "      <td>264.940137</td>\n",
              "      <td>945.023932</td>\n",
              "      <td>2307.922229</td>\n",
              "      <td>0</td>\n",
              "    </tr>\n",
              "    <tr>\n",
              "      <th>8</th>\n",
              "      <td>839.494647</td>\n",
              "      <td>1089.747059</td>\n",
              "      <td>653.699894</td>\n",
              "      <td>659.334590</td>\n",
              "      <td>1529.725972</td>\n",
              "      <td>1521.320489</td>\n",
              "      <td>1401.676227</td>\n",
              "      <td>433.025043</td>\n",
              "      <td>1289.063583</td>\n",
              "      <td>1690.149835</td>\n",
              "      <td>0</td>\n",
              "    </tr>\n",
              "    <tr>\n",
              "      <th>9</th>\n",
              "      <td>1028.689140</td>\n",
              "      <td>202.089774</td>\n",
              "      <td>1030.841860</td>\n",
              "      <td>429.109102</td>\n",
              "      <td>943.104815</td>\n",
              "      <td>1978.506855</td>\n",
              "      <td>653.178512</td>\n",
              "      <td>753.655291</td>\n",
              "      <td>1336.375960</td>\n",
              "      <td>1057.864848</td>\n",
              "      <td>1</td>\n",
              "    </tr>\n",
              "  </tbody>\n",
              "</table>\n",
              "</div>\n",
              "      <button class=\"colab-df-convert\" onclick=\"convertToInteractive('df-2e1ae4d9-bc94-40a8-bf21-e3569d05c7f7')\"\n",
              "              title=\"Convert this dataframe to an interactive table.\"\n",
              "              style=\"display:none;\">\n",
              "        \n",
              "  <svg xmlns=\"http://www.w3.org/2000/svg\" height=\"24px\"viewBox=\"0 0 24 24\"\n",
              "       width=\"24px\">\n",
              "    <path d=\"M0 0h24v24H0V0z\" fill=\"none\"/>\n",
              "    <path d=\"M18.56 5.44l.94 2.06.94-2.06 2.06-.94-2.06-.94-.94-2.06-.94 2.06-2.06.94zm-11 1L8.5 8.5l.94-2.06 2.06-.94-2.06-.94L8.5 2.5l-.94 2.06-2.06.94zm10 10l.94 2.06.94-2.06 2.06-.94-2.06-.94-.94-2.06-.94 2.06-2.06.94z\"/><path d=\"M17.41 7.96l-1.37-1.37c-.4-.4-.92-.59-1.43-.59-.52 0-1.04.2-1.43.59L10.3 9.45l-7.72 7.72c-.78.78-.78 2.05 0 2.83L4 21.41c.39.39.9.59 1.41.59.51 0 1.02-.2 1.41-.59l7.78-7.78 2.81-2.81c.8-.78.8-2.07 0-2.86zM5.41 20L4 18.59l7.72-7.72 1.47 1.35L5.41 20z\"/>\n",
              "  </svg>\n",
              "      </button>\n",
              "      \n",
              "  <style>\n",
              "    .colab-df-container {\n",
              "      display:flex;\n",
              "      flex-wrap:wrap;\n",
              "      gap: 12px;\n",
              "    }\n",
              "\n",
              "    .colab-df-convert {\n",
              "      background-color: #E8F0FE;\n",
              "      border: none;\n",
              "      border-radius: 50%;\n",
              "      cursor: pointer;\n",
              "      display: none;\n",
              "      fill: #1967D2;\n",
              "      height: 32px;\n",
              "      padding: 0 0 0 0;\n",
              "      width: 32px;\n",
              "    }\n",
              "\n",
              "    .colab-df-convert:hover {\n",
              "      background-color: #E2EBFA;\n",
              "      box-shadow: 0px 1px 2px rgba(60, 64, 67, 0.3), 0px 1px 3px 1px rgba(60, 64, 67, 0.15);\n",
              "      fill: #174EA6;\n",
              "    }\n",
              "\n",
              "    [theme=dark] .colab-df-convert {\n",
              "      background-color: #3B4455;\n",
              "      fill: #D2E3FC;\n",
              "    }\n",
              "\n",
              "    [theme=dark] .colab-df-convert:hover {\n",
              "      background-color: #434B5C;\n",
              "      box-shadow: 0px 1px 3px 1px rgba(0, 0, 0, 0.15);\n",
              "      filter: drop-shadow(0px 1px 2px rgba(0, 0, 0, 0.3));\n",
              "      fill: #FFFFFF;\n",
              "    }\n",
              "  </style>\n",
              "\n",
              "      <script>\n",
              "        const buttonEl =\n",
              "          document.querySelector('#df-2e1ae4d9-bc94-40a8-bf21-e3569d05c7f7 button.colab-df-convert');\n",
              "        buttonEl.style.display =\n",
              "          google.colab.kernel.accessAllowed ? 'block' : 'none';\n",
              "\n",
              "        async function convertToInteractive(key) {\n",
              "          const element = document.querySelector('#df-2e1ae4d9-bc94-40a8-bf21-e3569d05c7f7');\n",
              "          const dataTable =\n",
              "            await google.colab.kernel.invokeFunction('convertToInteractive',\n",
              "                                                     [key], {});\n",
              "          if (!dataTable) return;\n",
              "\n",
              "          const docLinkHtml = 'Like what you see? Visit the ' +\n",
              "            '<a target=\"_blank\" href=https://colab.research.google.com/notebooks/data_table.ipynb>data table notebook</a>'\n",
              "            + ' to learn more about interactive tables.';\n",
              "          element.innerHTML = '';\n",
              "          dataTable['output_type'] = 'display_data';\n",
              "          await google.colab.output.renderOutput(dataTable, element);\n",
              "          const docLink = document.createElement('div');\n",
              "          docLink.innerHTML = docLinkHtml;\n",
              "          element.appendChild(docLink);\n",
              "        }\n",
              "      </script>\n",
              "    </div>\n",
              "  </div>\n",
              "  "
            ],
            "text/plain": [
              "          XVPM         GWYH  ...         JHZC  TARGET CLASS\n",
              "0  1536.670614   817.988525  ...   845.136088             0\n",
              "1  1113.402760   577.587332  ...   861.081809             1\n",
              "2  1304.035501   820.518697  ...  1647.186291             1\n",
              "3  1057.347542  1066.866418  ...  1450.935357             0\n",
              "4  1023.340526  1313.679056  ...  1899.850792             0\n",
              "5  1587.993461   667.420121  ...  2156.949990             1\n",
              "6  1497.293624   822.435853  ...  1088.493788             0\n",
              "7  1172.820769  1166.958461  ...  2307.922229             0\n",
              "8   839.494647  1089.747059  ...  1690.149835             0\n",
              "9  1028.689140   202.089774  ...  1057.864848             1\n",
              "\n",
              "[10 rows x 11 columns]"
            ]
          },
          "metadata": {},
          "execution_count": 41
        }
      ]
    },
    {
      "cell_type": "markdown",
      "source": [
        "### Statistical Description of data"
      ],
      "metadata": {
        "id": "_W0aZA_dasQ4"
      }
    },
    {
      "cell_type": "code",
      "source": [
        "raw_df.describe()"
      ],
      "metadata": {
        "colab": {
          "base_uri": "https://localhost:8080/",
          "height": 300
        },
        "id": "B9P5-n6FYuSy",
        "outputId": "d9c2cc7d-af65-4bde-e766-d5d4e62ef718"
      },
      "execution_count": null,
      "outputs": [
        {
          "output_type": "execute_result",
          "data": {
            "text/html": [
              "\n",
              "  <div id=\"df-fde3c72f-5d37-4b18-90f5-a03e0788f7c0\">\n",
              "    <div class=\"colab-df-container\">\n",
              "      <div>\n",
              "<style scoped>\n",
              "    .dataframe tbody tr th:only-of-type {\n",
              "        vertical-align: middle;\n",
              "    }\n",
              "\n",
              "    .dataframe tbody tr th {\n",
              "        vertical-align: top;\n",
              "    }\n",
              "\n",
              "    .dataframe thead th {\n",
              "        text-align: right;\n",
              "    }\n",
              "</style>\n",
              "<table border=\"1\" class=\"dataframe\">\n",
              "  <thead>\n",
              "    <tr style=\"text-align: right;\">\n",
              "      <th></th>\n",
              "      <th>XVPM</th>\n",
              "      <th>GWYH</th>\n",
              "      <th>TRAT</th>\n",
              "      <th>TLLZ</th>\n",
              "      <th>IGGA</th>\n",
              "      <th>HYKR</th>\n",
              "      <th>EDFS</th>\n",
              "      <th>GUUB</th>\n",
              "      <th>MGJM</th>\n",
              "      <th>JHZC</th>\n",
              "      <th>TARGET CLASS</th>\n",
              "    </tr>\n",
              "  </thead>\n",
              "  <tbody>\n",
              "    <tr>\n",
              "      <th>count</th>\n",
              "      <td>1000.000000</td>\n",
              "      <td>1000.000000</td>\n",
              "      <td>1000.000000</td>\n",
              "      <td>1000.000000</td>\n",
              "      <td>1000.000000</td>\n",
              "      <td>1000.000000</td>\n",
              "      <td>1000.000000</td>\n",
              "      <td>1000.000000</td>\n",
              "      <td>1000.000000</td>\n",
              "      <td>1000.000000</td>\n",
              "      <td>1000.00000</td>\n",
              "    </tr>\n",
              "    <tr>\n",
              "      <th>mean</th>\n",
              "      <td>1055.078157</td>\n",
              "      <td>991.851567</td>\n",
              "      <td>1529.373525</td>\n",
              "      <td>495.107156</td>\n",
              "      <td>940.590072</td>\n",
              "      <td>1550.637455</td>\n",
              "      <td>1561.003252</td>\n",
              "      <td>561.346117</td>\n",
              "      <td>1089.067338</td>\n",
              "      <td>1452.521629</td>\n",
              "      <td>0.50000</td>\n",
              "    </tr>\n",
              "    <tr>\n",
              "      <th>std</th>\n",
              "      <td>370.841162</td>\n",
              "      <td>392.278890</td>\n",
              "      <td>640.286092</td>\n",
              "      <td>142.789188</td>\n",
              "      <td>345.923136</td>\n",
              "      <td>493.491988</td>\n",
              "      <td>598.608517</td>\n",
              "      <td>247.357552</td>\n",
              "      <td>402.666953</td>\n",
              "      <td>568.132005</td>\n",
              "      <td>0.50025</td>\n",
              "    </tr>\n",
              "    <tr>\n",
              "      <th>min</th>\n",
              "      <td>21.170000</td>\n",
              "      <td>21.720000</td>\n",
              "      <td>31.800000</td>\n",
              "      <td>8.450000</td>\n",
              "      <td>17.930000</td>\n",
              "      <td>27.930000</td>\n",
              "      <td>31.960000</td>\n",
              "      <td>13.520000</td>\n",
              "      <td>23.210000</td>\n",
              "      <td>30.890000</td>\n",
              "      <td>0.00000</td>\n",
              "    </tr>\n",
              "    <tr>\n",
              "      <th>25%</th>\n",
              "      <td>767.413366</td>\n",
              "      <td>694.859326</td>\n",
              "      <td>1062.600806</td>\n",
              "      <td>401.788135</td>\n",
              "      <td>700.763295</td>\n",
              "      <td>1219.267077</td>\n",
              "      <td>1132.097865</td>\n",
              "      <td>381.704293</td>\n",
              "      <td>801.849802</td>\n",
              "      <td>1059.499689</td>\n",
              "      <td>0.00000</td>\n",
              "    </tr>\n",
              "    <tr>\n",
              "      <th>50%</th>\n",
              "      <td>1046.047215</td>\n",
              "      <td>978.355081</td>\n",
              "      <td>1522.507269</td>\n",
              "      <td>500.197421</td>\n",
              "      <td>939.348662</td>\n",
              "      <td>1564.996551</td>\n",
              "      <td>1565.882879</td>\n",
              "      <td>540.420379</td>\n",
              "      <td>1099.087954</td>\n",
              "      <td>1441.554053</td>\n",
              "      <td>0.50000</td>\n",
              "    </tr>\n",
              "    <tr>\n",
              "      <th>75%</th>\n",
              "      <td>1326.065178</td>\n",
              "      <td>1275.528770</td>\n",
              "      <td>1991.128626</td>\n",
              "      <td>600.525709</td>\n",
              "      <td>1182.578166</td>\n",
              "      <td>1891.937040</td>\n",
              "      <td>1981.739411</td>\n",
              "      <td>725.762027</td>\n",
              "      <td>1369.923665</td>\n",
              "      <td>1864.405512</td>\n",
              "      <td>1.00000</td>\n",
              "    </tr>\n",
              "    <tr>\n",
              "      <th>max</th>\n",
              "      <td>2117.000000</td>\n",
              "      <td>2172.000000</td>\n",
              "      <td>3180.000000</td>\n",
              "      <td>845.000000</td>\n",
              "      <td>1793.000000</td>\n",
              "      <td>2793.000000</td>\n",
              "      <td>3196.000000</td>\n",
              "      <td>1352.000000</td>\n",
              "      <td>2321.000000</td>\n",
              "      <td>3089.000000</td>\n",
              "      <td>1.00000</td>\n",
              "    </tr>\n",
              "  </tbody>\n",
              "</table>\n",
              "</div>\n",
              "      <button class=\"colab-df-convert\" onclick=\"convertToInteractive('df-fde3c72f-5d37-4b18-90f5-a03e0788f7c0')\"\n",
              "              title=\"Convert this dataframe to an interactive table.\"\n",
              "              style=\"display:none;\">\n",
              "        \n",
              "  <svg xmlns=\"http://www.w3.org/2000/svg\" height=\"24px\"viewBox=\"0 0 24 24\"\n",
              "       width=\"24px\">\n",
              "    <path d=\"M0 0h24v24H0V0z\" fill=\"none\"/>\n",
              "    <path d=\"M18.56 5.44l.94 2.06.94-2.06 2.06-.94-2.06-.94-.94-2.06-.94 2.06-2.06.94zm-11 1L8.5 8.5l.94-2.06 2.06-.94-2.06-.94L8.5 2.5l-.94 2.06-2.06.94zm10 10l.94 2.06.94-2.06 2.06-.94-2.06-.94-.94-2.06-.94 2.06-2.06.94z\"/><path d=\"M17.41 7.96l-1.37-1.37c-.4-.4-.92-.59-1.43-.59-.52 0-1.04.2-1.43.59L10.3 9.45l-7.72 7.72c-.78.78-.78 2.05 0 2.83L4 21.41c.39.39.9.59 1.41.59.51 0 1.02-.2 1.41-.59l7.78-7.78 2.81-2.81c.8-.78.8-2.07 0-2.86zM5.41 20L4 18.59l7.72-7.72 1.47 1.35L5.41 20z\"/>\n",
              "  </svg>\n",
              "      </button>\n",
              "      \n",
              "  <style>\n",
              "    .colab-df-container {\n",
              "      display:flex;\n",
              "      flex-wrap:wrap;\n",
              "      gap: 12px;\n",
              "    }\n",
              "\n",
              "    .colab-df-convert {\n",
              "      background-color: #E8F0FE;\n",
              "      border: none;\n",
              "      border-radius: 50%;\n",
              "      cursor: pointer;\n",
              "      display: none;\n",
              "      fill: #1967D2;\n",
              "      height: 32px;\n",
              "      padding: 0 0 0 0;\n",
              "      width: 32px;\n",
              "    }\n",
              "\n",
              "    .colab-df-convert:hover {\n",
              "      background-color: #E2EBFA;\n",
              "      box-shadow: 0px 1px 2px rgba(60, 64, 67, 0.3), 0px 1px 3px 1px rgba(60, 64, 67, 0.15);\n",
              "      fill: #174EA6;\n",
              "    }\n",
              "\n",
              "    [theme=dark] .colab-df-convert {\n",
              "      background-color: #3B4455;\n",
              "      fill: #D2E3FC;\n",
              "    }\n",
              "\n",
              "    [theme=dark] .colab-df-convert:hover {\n",
              "      background-color: #434B5C;\n",
              "      box-shadow: 0px 1px 3px 1px rgba(0, 0, 0, 0.15);\n",
              "      filter: drop-shadow(0px 1px 2px rgba(0, 0, 0, 0.3));\n",
              "      fill: #FFFFFF;\n",
              "    }\n",
              "  </style>\n",
              "\n",
              "      <script>\n",
              "        const buttonEl =\n",
              "          document.querySelector('#df-fde3c72f-5d37-4b18-90f5-a03e0788f7c0 button.colab-df-convert');\n",
              "        buttonEl.style.display =\n",
              "          google.colab.kernel.accessAllowed ? 'block' : 'none';\n",
              "\n",
              "        async function convertToInteractive(key) {\n",
              "          const element = document.querySelector('#df-fde3c72f-5d37-4b18-90f5-a03e0788f7c0');\n",
              "          const dataTable =\n",
              "            await google.colab.kernel.invokeFunction('convertToInteractive',\n",
              "                                                     [key], {});\n",
              "          if (!dataTable) return;\n",
              "\n",
              "          const docLinkHtml = 'Like what you see? Visit the ' +\n",
              "            '<a target=\"_blank\" href=https://colab.research.google.com/notebooks/data_table.ipynb>data table notebook</a>'\n",
              "            + ' to learn more about interactive tables.';\n",
              "          element.innerHTML = '';\n",
              "          dataTable['output_type'] = 'display_data';\n",
              "          await google.colab.output.renderOutput(dataTable, element);\n",
              "          const docLink = document.createElement('div');\n",
              "          docLink.innerHTML = docLinkHtml;\n",
              "          element.appendChild(docLink);\n",
              "        }\n",
              "      </script>\n",
              "    </div>\n",
              "  </div>\n",
              "  "
            ],
            "text/plain": [
              "              XVPM         GWYH  ...         JHZC  TARGET CLASS\n",
              "count  1000.000000  1000.000000  ...  1000.000000    1000.00000\n",
              "mean   1055.078157   991.851567  ...  1452.521629       0.50000\n",
              "std     370.841162   392.278890  ...   568.132005       0.50025\n",
              "min      21.170000    21.720000  ...    30.890000       0.00000\n",
              "25%     767.413366   694.859326  ...  1059.499689       0.00000\n",
              "50%    1046.047215   978.355081  ...  1441.554053       0.50000\n",
              "75%    1326.065178  1275.528770  ...  1864.405512       1.00000\n",
              "max    2117.000000  2172.000000  ...  3089.000000       1.00000\n",
              "\n",
              "[8 rows x 11 columns]"
            ]
          },
          "metadata": {},
          "execution_count": 42
        }
      ]
    },
    {
      "cell_type": "markdown",
      "source": [
        "### Checking for missing or null values"
      ],
      "metadata": {
        "id": "PIVobA-8azZT"
      }
    },
    {
      "cell_type": "code",
      "source": [
        "raw_df.isna().sum()"
      ],
      "metadata": {
        "colab": {
          "base_uri": "https://localhost:8080/"
        },
        "id": "xZp1KCd4YzZw",
        "outputId": "8cf630e9-a178-4497-dd5c-cd0ec9f95f91"
      },
      "execution_count": null,
      "outputs": [
        {
          "output_type": "execute_result",
          "data": {
            "text/plain": [
              "XVPM            0\n",
              "GWYH            0\n",
              "TRAT            0\n",
              "TLLZ            0\n",
              "IGGA            0\n",
              "HYKR            0\n",
              "EDFS            0\n",
              "GUUB            0\n",
              "MGJM            0\n",
              "JHZC            0\n",
              "TARGET CLASS    0\n",
              "dtype: int64"
            ]
          },
          "metadata": {},
          "execution_count": 43
        }
      ]
    },
    {
      "cell_type": "markdown",
      "source": [
        "----\n",
        "# Preprocessing of data\n",
        "----"
      ],
      "metadata": {
        "id": "Lzrx33ooDEMR"
      }
    },
    {
      "cell_type": "markdown",
      "source": [
        "### Outlier Treatment\n",
        "There are two ways to do so,\n",
        "\n",
        "*   **Using IQR** - In IQR, data points higher than the upper limit and lower than the lower limit are considered outliers\n",
        "*   **Using Z-score** - If the z score of a data point is more than 3, it indicates that the data point is quite different from the other data points therefore can be considered outlier."
      ],
      "metadata": {
        "id": "fRWd7cc-suCJ"
      }
    },
    {
      "cell_type": "code",
      "source": [
        "perform_outlier = raw_df.copy()\n",
        "Q1 = perform_outlier.quantile(0.25)\n",
        "Q3 = perform_outlier.quantile(0.75)\n",
        "iqr_values = iqr(perform_outlier, axis=0)\n",
        "\n",
        "iqr_outlier_removed = perform_outlier[~((perform_outlier< (Q1-1.5*iqr_values)) | (perform_outlier> (Q3+1.5*iqr_values))).any(axis=1)]\n",
        "iqr_outlier_removed.shape"
      ],
      "metadata": {
        "colab": {
          "base_uri": "https://localhost:8080/"
        },
        "id": "k-n8esastYjE",
        "outputId": "d144d595-a0c4-484e-8b53-c18c62fd28b6"
      },
      "execution_count": null,
      "outputs": [
        {
          "output_type": "execute_result",
          "data": {
            "text/plain": [
              "(983, 11)"
            ]
          },
          "metadata": {},
          "execution_count": 65
        }
      ]
    },
    {
      "cell_type": "code",
      "source": [
        "z = np.abs(stats.zscore(raw_df))\n",
        "ZScore_Outlier_Removed = raw_df[(z<3).all(axis=1)]\n",
        "ZScore_Outlier_Removed.shape"
      ],
      "metadata": {
        "colab": {
          "base_uri": "https://localhost:8080/"
        },
        "id": "GUSozfDUs_Uc",
        "outputId": "dec9443c-28bf-4332-dbfb-4858d3e1ac98"
      },
      "execution_count": null,
      "outputs": [
        {
          "output_type": "execute_result",
          "data": {
            "text/plain": [
              "(992, 11)"
            ]
          },
          "metadata": {},
          "execution_count": 63
        }
      ]
    },
    {
      "cell_type": "markdown",
      "source": [
        "Since Z score outlier treatment leads to minimal data loss, we would go ahead with it."
      ],
      "metadata": {
        "id": "Vy0e6YV9uF2P"
      }
    },
    {
      "cell_type": "code",
      "source": [
        "processed_df = ZScore_Outlier_Removed.copy()"
      ],
      "metadata": {
        "id": "36wT2L73uOTZ"
      },
      "execution_count": null,
      "outputs": []
    },
    {
      "cell_type": "markdown",
      "source": [
        "#### Seperate the target variable"
      ],
      "metadata": {
        "id": "ag7CPI2dbFkt"
      }
    },
    {
      "cell_type": "code",
      "source": [
        "X = processed_df.iloc[:,:-1]\n",
        "y = processed_df.iloc[:,-1:]"
      ],
      "metadata": {
        "id": "QTVbJUKOX0p-"
      },
      "execution_count": null,
      "outputs": []
    },
    {
      "cell_type": "markdown",
      "source": [
        "### Normalize the dataset and print 10 rows."
      ],
      "metadata": {
        "id": "xvXXQgWUbOT_"
      }
    },
    {
      "cell_type": "code",
      "source": [
        "scaler = StandardScaler()\n",
        "X.iloc[:] = scaler.fit_transform(X.to_numpy())"
      ],
      "metadata": {
        "id": "jE2CCtGCZofi"
      },
      "execution_count": null,
      "outputs": []
    },
    {
      "cell_type": "markdown",
      "source": [
        "#### Check Normalized Values"
      ],
      "metadata": {
        "id": "2homuucKbRlk"
      }
    },
    {
      "cell_type": "code",
      "source": [
        "X = X.values\n",
        "X"
      ],
      "metadata": {
        "colab": {
          "base_uri": "https://localhost:8080/"
        },
        "id": "yCTY-De0bYbG",
        "outputId": "27afef1a-f9ff-4e13-8924-80ac19d93b9a"
      },
      "execution_count": null,
      "outputs": [
        {
          "output_type": "execute_result",
          "data": {
            "text/plain": [
              "array([[ 1.2945893 , -0.4387325 ,  1.61876312, ..., -0.93187704,\n",
              "         1.01150454, -1.06712236],\n",
              "       [ 0.15377085, -1.05299557,  1.74068689, ..., -0.45777799,\n",
              "         0.26004847, -1.03911301],\n",
              "       [ 0.66757634, -0.43226751,  0.77603386, ...,  1.164228  ,\n",
              "         2.19027107,  0.34171372],\n",
              "       ...,\n",
              "       [-0.362124  , -0.97529431,  0.83786169, ..., -1.51772573,\n",
              "        -0.27443553,  0.86185896],\n",
              "       [ 0.27146381, -0.98870312,  0.03174757, ..., -0.02928196,\n",
              "         0.43876104, -0.21213722],\n",
              "       [ 0.62206553,  0.80208185,  1.12151443, ..., -1.25279332,\n",
              "        -0.60348366, -0.87783783]])"
            ]
          },
          "metadata": {},
          "execution_count": 75
        }
      ]
    },
    {
      "cell_type": "code",
      "source": [
        "plt.hist(X)"
      ],
      "metadata": {
        "colab": {
          "base_uri": "https://localhost:8080/",
          "height": 508
        },
        "id": "E40YUEtqvxsC",
        "outputId": "998ec842-142f-44f3-bfa5-aa794d48d1ea"
      },
      "execution_count": null,
      "outputs": [
        {
          "output_type": "execute_result",
          "data": {
            "text/plain": [
              "(array([[  1.,  22.,  98., 176., 204., 209., 160.,  88.,  29.,   5.],\n",
              "        [  1.,  21.,  96., 183., 204., 207., 144., 103.,  25.,   8.],\n",
              "        [  0.,  23., 101., 165., 210., 217., 148.,  94.,  28.,   6.],\n",
              "        [ 11.,  27.,  78., 151., 209., 230., 164.,  95.,  26.,   1.],\n",
              "        [  5.,  30.,  85., 157., 219., 212., 158.,  95.,  29.,   2.],\n",
              "        [  8.,  32.,  79., 144., 215., 232., 171.,  82.,  27.,   2.],\n",
              "        [  4.,  24.,  97., 161., 205., 218., 164.,  81.,  31.,   7.],\n",
              "        [  0.,  16.,  91., 182., 238., 186., 156.,  75.,  36.,  12.],\n",
              "        [  1.,  23., 100., 155., 210., 229., 166.,  68.,  35.,   5.],\n",
              "        [  1.,  30.,  99., 148., 222., 216., 142., 104.,  26.,   4.]]),\n",
              " array([-3.03124659, -2.42575912, -1.82027166, -1.21478419, -0.60929672,\n",
              "        -0.00380925,  0.60167822,  1.20716568,  1.81265315,  2.41814062,\n",
              "         3.02362809]),\n",
              " <a list of 10 Lists of Patches objects>)"
            ]
          },
          "metadata": {},
          "execution_count": 76
        },
        {
          "output_type": "display_data",
          "data": {
            "image/png": "[encoded data removed]",
            "text/plain": [
              "<Figure size 432x288 with 1 Axes>"
            ]
          },
          "metadata": {
            "needs_background": "light"
          }
        }
      ]
    },
    {
      "cell_type": "markdown",
      "source": [
        "### Checking correlation between variables and target"
      ],
      "metadata": {
        "id": "09VG4qW6bdWt"
      }
    },
    {
      "cell_type": "code",
      "source": [
        "corr_matrix = processed_df.corr()\n",
        "corr_matrix[\"TARGET CLASS\"]"
      ],
      "metadata": {
        "colab": {
          "base_uri": "https://localhost:8080/"
        },
        "id": "rFtoDpd50Kjc",
        "outputId": "d3192d12-8aa5-439f-ff81-2b8956f5050a"
      },
      "execution_count": null,
      "outputs": [
        {
          "output_type": "execute_result",
          "data": {
            "text/plain": [
              "XVPM           -0.082380\n",
              "GWYH           -0.421031\n",
              "TRAT            0.488204\n",
              "TLLZ           -0.171976\n",
              "IGGA            0.296380\n",
              "HYKR           -0.014869\n",
              "EDFS            0.280603\n",
              "GUUB           -0.169666\n",
              "MGJM           -0.098485\n",
              "JHZC           -0.301143\n",
              "TARGET CLASS    1.000000\n",
              "Name: TARGET CLASS, dtype: float64"
            ]
          },
          "metadata": {},
          "execution_count": 78
        }
      ]
    },
    {
      "cell_type": "code",
      "source": [
        "#correlation analysis\n",
        "pearsonCorr = processed_df.corr(method='pearson')\n",
        "\n",
        "fig = plt.subplots(figsize=(10,5))\n",
        "sns.heatmap(pearsonCorr, vmin=-1, vmax=1, cmap='RdGy', annot = True, linewidth = 0.1)\n",
        "plt.title('Pearson Correlation')"
      ],
      "metadata": {
        "colab": {
          "base_uri": "https://localhost:8080/",
          "height": 417
        },
        "id": "5OqPa8Rmt6zB",
        "outputId": "923102db-d280-402e-fe26-32fac936e896"
      },
      "execution_count": null,
      "outputs": [
        {
          "output_type": "execute_result",
          "data": {
            "text/plain": [
              "Text(0.5, 1.0, 'Pearson Correlation')"
            ]
          },
          "metadata": {},
          "execution_count": 79
        },
        {
          "output_type": "display_data",
          "data": {
            "image/png": "[encoded data removed]",
            "text/plain": [
              "<Figure size 720x360 with 2 Axes>"
            ]
          },
          "metadata": {
            "needs_background": "light"
          }
        }
      ]
    },
    {
      "cell_type": "markdown",
      "source": [
        "----\n",
        "# Train Test Split\n",
        "----"
      ],
      "metadata": {
        "id": "bejl2B6UC_Wt"
      }
    },
    {
      "cell_type": "markdown",
      "source": [
        "### Split the data as per 70:30 ratios of training and test set."
      ],
      "metadata": {
        "id": "YZJNI0vebrrT"
      }
    },
    {
      "cell_type": "code",
      "source": [
        "X_train,X_test,y_train,y_test = train_test_split(X,y,test_size=0.3)"
      ],
      "metadata": {
        "id": "T4hEixX1c9UO"
      },
      "execution_count": null,
      "outputs": []
    },
    {
      "cell_type": "markdown",
      "source": [
        "----\n",
        "# Define a functions to return k- nearest neighbors\n",
        "----"
      ],
      "metadata": {
        "id": "pN9cq2l2DG3_"
      }
    },
    {
      "cell_type": "markdown",
      "source": [
        "### Calculating Euclidean distance between vectors"
      ],
      "metadata": {
        "id": "pr8gYOlhb6RH"
      }
    },
    {
      "cell_type": "code",
      "source": [
        "# calculate the Euclidean distance between two vectors\n",
        "def euclidean_distance(vector1, vector2):\n",
        "  # Intitiating distance\n",
        "\tdistance = 0.0\n",
        "  #Iterating through dimensions of vector\n",
        "\tfor i in range(len(vector1)):\n",
        "    #calculating dimensional distance\n",
        "\t\tdistance += (vector1[i] - vector2[i])**2\n",
        "\treturn math.sqrt(distance)"
      ],
      "metadata": {
        "id": "hICI79rN7tEU"
      },
      "execution_count": null,
      "outputs": []
    },
    {
      "cell_type": "markdown",
      "source": [
        "### Fetching Neighbors based on Euclidean Distance"
      ],
      "metadata": {
        "id": "3S5dgoovcECF"
      }
    },
    {
      "cell_type": "code",
      "source": [
        "#Function to get the closest neighbors\n",
        "def get_neighbors(X_train, X_test_row, k):\n",
        "    #Calculating euclidean distance and storing with row ID\n",
        "    distances = [(i, euclidean_distance(X_test_row, instance)) for i, instance in enumerate(X_train)]\n",
        "    #sorting the distances in ascending order\n",
        "    distances.sort(key=lambda x: x[1])\n",
        "    #returning row ID of closest K neighbors\n",
        "    return [i[0] for i in distances[:k]]"
      ],
      "metadata": {
        "id": "E1ewxoshVWc4"
      },
      "execution_count": null,
      "outputs": []
    },
    {
      "cell_type": "markdown",
      "source": [
        "#### Testing the neighbor function"
      ],
      "metadata": {
        "id": "LUg0Ohg6cOtz"
      }
    },
    {
      "cell_type": "code",
      "source": [
        "#Using a single row to test the get neighbors function\n",
        "get_neighbors(X_train, X_train[5], 10)"
      ],
      "metadata": {
        "colab": {
          "base_uri": "https://localhost:8080/"
        },
        "id": "_N1oK4SbVYF1",
        "outputId": "8aee2a16-e0f4-4072-e472-163d4c3fea97"
      },
      "execution_count": null,
      "outputs": [
        {
          "output_type": "execute_result",
          "data": {
            "text/plain": [
              "[5, 47, 380, 583, 451, 412, 335, 573, 595, 667]"
            ]
          },
          "metadata": {},
          "execution_count": 90
        }
      ]
    },
    {
      "cell_type": "markdown",
      "source": [
        "### Building the prediction function"
      ],
      "metadata": {
        "id": "R9z8pBlBcrvW"
      }
    },
    {
      "cell_type": "code",
      "source": [
        "#Function to predict the class for a row based on K nearest neighbors\n",
        "\n",
        "def predict(neighbor_id, target_class):\n",
        "    #Dependent variable, class\n",
        "    target_class = np.array(target_class)\n",
        "\n",
        "    #Based on row ID fetching the corresponding class of nearest neighbors\n",
        "    neighbor_class = target_class[neighbor_id]\n",
        "\n",
        "    #initiating prediction bucket\n",
        "    prediction_bucket = {}\n",
        "\n",
        "    #Indexing and counting various classes from K nearest neighbors\n",
        "    for x in neighbor_class:\n",
        "        if x[0] in prediction_bucket:\n",
        "            prediction_bucket[x[0]] += 1\n",
        "        else:\n",
        "            prediction_bucket[x[0]] = 1\n",
        "    \n",
        "    #Total count of all classes\n",
        "    total = sum(prediction_bucket.values())\n",
        "\n",
        "    #Calculating probability for each class from K neighbors\n",
        "    probability = {k: v/total for k, v in prediction_bucket.items()}\n",
        "    \n",
        "    return probability"
      ],
      "metadata": {
        "id": "tAdkXklyV5Np"
      },
      "execution_count": null,
      "outputs": []
    },
    {
      "cell_type": "markdown",
      "source": [
        "#### Testing the prediction function"
      ],
      "metadata": {
        "id": "BvQXo4h-cvhh"
      }
    },
    {
      "cell_type": "code",
      "source": [
        "predict(get_neighbors(X_train, X_train[5], 5), y_train)"
      ],
      "metadata": {
        "colab": {
          "base_uri": "https://localhost:8080/"
        },
        "id": "tRPRvcT3WJ42",
        "outputId": "54974bb8-7c05-49ad-ac45-4bb91dbba034"
      },
      "execution_count": null,
      "outputs": [
        {
          "output_type": "execute_result",
          "data": {
            "text/plain": [
              "{0: 0.4, 1: 0.6}"
            ]
          },
          "metadata": {},
          "execution_count": 94
        }
      ]
    },
    {
      "cell_type": "markdown",
      "source": [
        "### Compiling all functions together in a classfier"
      ],
      "metadata": {
        "id": "zEkW73iec0LB"
      }
    },
    {
      "cell_type": "code",
      "source": [
        "#Compiling all classes into a single KNN function\n",
        "def knn_classifier(X_train, y_train, X_test, k):\n",
        "    #prediction list\n",
        "    result = []\n",
        "    #iterating through test rows and predicting their class based on highest probability\n",
        "    for vector in X_test:\n",
        "        neighbor_index = get_neighbors(X_train, vector, k)\n",
        "        #prediction per row\n",
        "        prediction = predict(neighbor_index, y_train)\n",
        "\n",
        "        #fetching the class with highest probability\n",
        "        result.append(max(prediction, key=prediction.get))\n",
        "    return np.array(result)"
      ],
      "metadata": {
        "id": "Wo7RIENmW6ab"
      },
      "execution_count": null,
      "outputs": []
    },
    {
      "cell_type": "markdown",
      "source": [
        "# Test the KNN Algorithm on the test dataset\n"
      ],
      "metadata": {
        "id": "2f7MF_XoDLVS"
      }
    },
    {
      "cell_type": "code",
      "source": [
        "#Testing the algorithm on dataset, with K = 20\n",
        "y_pred = knn_classifier(X_train, y_train, X_test, 20)\n",
        "y_pred"
      ],
      "metadata": {
        "colab": {
          "base_uri": "https://localhost:8080/"
        },
        "id": "Ry85QFq2YOjd",
        "outputId": "e1bec3cd-25ef-4c35-c780-12e651aeeb55"
      },
      "execution_count": null,
      "outputs": [
        {
          "output_type": "execute_result",
          "data": {
            "text/plain": [
              "array([0, 0, 1, 1, 1, 0, 0, 1, 1, 0, 1, 0, 0, 0, 0, 1, 1, 1, 0, 1, 1, 0,\n",
              "       1, 1, 1, 0, 0, 1, 0, 1, 0, 0, 1, 1, 0, 1, 1, 0, 1, 0, 1, 0, 0, 0,\n",
              "       0, 0, 1, 1, 1, 0, 0, 0, 0, 0, 0, 1, 0, 1, 0, 0, 0, 0, 0, 1, 1, 0,\n",
              "       1, 1, 1, 0, 0, 0, 1, 1, 0, 1, 1, 1, 1, 1, 1, 1, 0, 1, 1, 0, 1, 1,\n",
              "       1, 0, 0, 1, 0, 1, 0, 1, 1, 0, 1, 1, 0, 1, 1, 1, 1, 0, 0, 1, 1, 0,\n",
              "       0, 1, 1, 0, 0, 1, 1, 0, 1, 1, 1, 1, 0, 1, 1, 1, 0, 0, 1, 1, 1, 0,\n",
              "       1, 1, 1, 1, 1, 1, 1, 0, 1, 0, 0, 0, 0, 1, 0, 1, 0, 0, 0, 1, 1, 0,\n",
              "       1, 0, 0, 1, 1, 0, 0, 0, 1, 0, 1, 0, 1, 0, 1, 0, 0, 1, 1, 1, 1, 0,\n",
              "       1, 0, 0, 0, 0, 1, 1, 1, 1, 1, 0, 1, 0, 0, 1, 1, 0, 1, 1, 1, 0, 0,\n",
              "       0, 0, 0, 0, 0, 0, 0, 0, 1, 0, 0, 0, 0, 0, 0, 0, 0, 1, 1, 1, 0, 0,\n",
              "       0, 0, 0, 1, 1, 0, 1, 1, 0, 0, 1, 0, 1, 0, 1, 1, 1, 1, 0, 1, 1, 0,\n",
              "       0, 0, 1, 1, 0, 0, 0, 1, 0, 1, 0, 0, 1, 1, 0, 1, 1, 0, 0, 0, 1, 1,\n",
              "       1, 1, 0, 0, 0, 1, 0, 1, 0, 0, 1, 1, 0, 1, 0, 1, 0, 0, 1, 1, 0, 0,\n",
              "       0, 1, 0, 1, 1, 1, 0, 0, 1, 0, 0, 0])"
            ]
          },
          "metadata": {},
          "execution_count": 96
        }
      ]
    },
    {
      "cell_type": "markdown",
      "source": [
        "### Calculating Accuracy of the custom KNN classifer"
      ],
      "metadata": {
        "id": "G7Cs_4s2dQD9"
      }
    },
    {
      "cell_type": "code",
      "source": [
        "#flattening the test class labels for consumption\n",
        "y_test_flatten = y_test.values.flatten()"
      ],
      "metadata": {
        "id": "f_v1EuIrYcVr"
      },
      "execution_count": null,
      "outputs": []
    },
    {
      "cell_type": "markdown",
      "source": [
        "#### Function to calculate accuracy score"
      ],
      "metadata": {
        "id": "czpQcxD9gcjg"
      }
    },
    {
      "cell_type": "code",
      "source": [
        "#accuracy function comparing prediction vs test\n",
        "def accuracy_score(y_true, y_pred):\n",
        "    count = 0\n",
        "    for true, pred in zip(y_true, y_pred):\n",
        "        if true == pred:\n",
        "            count += 1\n",
        "    return count/len(y_true)"
      ],
      "metadata": {
        "id": "wKryruYlY2ih"
      },
      "execution_count": null,
      "outputs": []
    },
    {
      "cell_type": "markdown",
      "source": [
        "#### Calculating accuracy"
      ],
      "metadata": {
        "id": "PBDP9F64ggcd"
      }
    },
    {
      "cell_type": "code",
      "source": [
        "print(\"Custom KNN classifier has the accuracy of : \", round(accuracy_score(y_test_flatten, y_pred), 2))"
      ],
      "metadata": {
        "colab": {
          "base_uri": "https://localhost:8080/"
        },
        "id": "5nHyHQnXY8uK",
        "outputId": "5ce6cda3-5bf9-48a5-b87c-404abed3e59b"
      },
      "execution_count": null,
      "outputs": [
        {
          "output_type": "stream",
          "name": "stdout",
          "text": [
            "Custom KNN classifier has the accuracy of :  0.83\n"
          ]
        }
      ]
    },
    {
      "cell_type": "code",
      "source": [
        "print(\"Confusion Matrix : \\n\", confusion_matrix(y_test_flatten, y_pred))"
      ],
      "metadata": {
        "colab": {
          "base_uri": "https://localhost:8080/"
        },
        "id": "i7qDJD6obn7b",
        "outputId": "cd5d3b81-817a-4d84-b273-8ef83398d85f"
      },
      "execution_count": null,
      "outputs": [
        {
          "output_type": "stream",
          "name": "stdout",
          "text": [
            "Confusion Matrix : \n",
            " [[127  29]\n",
            " [ 23 119]]\n"
          ]
        }
      ]
    },
    {
      "cell_type": "code",
      "source": [
        "print(\"Detailed classification report : \\n\", classification_report(y_test_flatten, y_pred))"
      ],
      "metadata": {
        "colab": {
          "base_uri": "https://localhost:8080/"
        },
        "id": "1jDeqgvjhSQZ",
        "outputId": "f6cb8048-60e2-4dd7-c76a-4b70075fc559"
      },
      "execution_count": null,
      "outputs": [
        {
          "output_type": "stream",
          "name": "stdout",
          "text": [
            "Detailed classification report : \n",
            "               precision    recall  f1-score   support\n",
            "\n",
            "           0       0.85      0.81      0.83       156\n",
            "           1       0.80      0.84      0.82       142\n",
            "\n",
            "    accuracy                           0.83       298\n",
            "   macro avg       0.83      0.83      0.83       298\n",
            "weighted avg       0.83      0.83      0.83       298\n",
            "\n"
          ]
        }
      ]
    },
    {
      "cell_type": "markdown",
      "source": [
        "# Repeat the procedure with different values of K and find the best value."
      ],
      "metadata": {
        "id": "vxxdypr0DPQ7"
      }
    },
    {
      "cell_type": "markdown",
      "source": [
        "### Function to iterate through a range of K values"
      ],
      "metadata": {
        "id": "SCzTKezIhpAR"
      }
    },
    {
      "cell_type": "code",
      "source": [
        "def k_iter(X_train, y_train, X_test, y_test, k_max):\n",
        "    accuracy = []\n",
        "    y_t = y_test\n",
        "    for i in range(1, k_max):\n",
        "        y_pred = knn_classifier(X_train, y_train, X_test, i)\n",
        "        accuracy.append(accuracy_score(y_t, y_pred))\n",
        "    return np.array(accuracy)"
      ],
      "metadata": {
        "id": "7qw8a2okaA9V"
      },
      "execution_count": null,
      "outputs": []
    },
    {
      "cell_type": "markdown",
      "source": [
        "### Testing the classifier on various K values"
      ],
      "metadata": {
        "id": "XMeB_NmjhxEY"
      }
    },
    {
      "cell_type": "code",
      "source": [
        "accuracy = k_iter(X_train, y_train, X_test, y_test_flatten, 50)\n",
        "accuracy"
      ],
      "metadata": {
        "colab": {
          "base_uri": "https://localhost:8080/"
        },
        "id": "8Lrlpy6CaCYg",
        "outputId": "f1071cec-6e5b-4784-e39b-f691ff6c4e20"
      },
      "execution_count": null,
      "outputs": [
        {
          "output_type": "execute_result",
          "data": {
            "text/plain": [
              "array([0.73825503, 0.73825503, 0.79530201, 0.79865772, 0.80536913,\n",
              "       0.81879195, 0.81543624, 0.81208054, 0.80872483, 0.81208054,\n",
              "       0.80201342, 0.80872483, 0.80536913, 0.81543624, 0.81543624,\n",
              "       0.81543624, 0.81879195, 0.82214765, 0.80201342, 0.82550336,\n",
              "       0.81208054, 0.81543624, 0.79865772, 0.78187919, 0.79194631,\n",
              "       0.80201342, 0.80536913, 0.80536913, 0.80201342, 0.80536913,\n",
              "       0.80536913, 0.79865772, 0.80536913, 0.80201342, 0.79530201,\n",
              "       0.7885906 , 0.79530201, 0.79530201, 0.7885906 , 0.7885906 ,\n",
              "       0.79530201, 0.79194631, 0.79194631, 0.7885906 , 0.79530201,\n",
              "       0.79865772, 0.79865772, 0.79865772, 0.79530201])"
            ]
          },
          "metadata": {},
          "execution_count": 103
        }
      ]
    },
    {
      "cell_type": "code",
      "source": [
        "print(\"Peak accuracy is \" , max(accuracy), \" for value of K = \", np.where(accuracy ==  max(accuracy))[0][0] + 1)\n"
      ],
      "metadata": {
        "colab": {
          "base_uri": "https://localhost:8080/"
        },
        "id": "rURncMAh24kJ",
        "outputId": "afd42209-80e1-4c2a-c450-f984c3ea62ff"
      },
      "execution_count": null,
      "outputs": [
        {
          "output_type": "stream",
          "name": "stdout",
          "text": [
            "Peak accuracy is  0.825503355704698  for value of K =  20\n"
          ]
        }
      ]
    },
    {
      "cell_type": "markdown",
      "source": [
        "### Plotting K Value vs Accuracy"
      ],
      "metadata": {
        "id": "UjYyNgYNh2E6"
      }
    },
    {
      "cell_type": "code",
      "source": [
        "x_plot = np.arange(1, 50)\n",
        "y_plot = accuracy\n",
        "\n",
        "plt.plot(x_plot, y_plot, color=\"skyblue\")\n",
        "plt.show()"
      ],
      "metadata": {
        "colab": {
          "base_uri": "https://localhost:8080/",
          "height": 265
        },
        "id": "GSyu7z1UaLBH",
        "outputId": "722844ba-cc56-4eda-d651-8f56628b1a88"
      },
      "execution_count": null,
      "outputs": [
        {
          "output_type": "display_data",
          "data": {
            "image/png": "[encoded data removed]",
            "text/plain": [
              "<Figure size 432x288 with 1 Axes>"
            ]
          },
          "metadata": {
            "needs_background": "light"
          }
        }
      ]
    },
    {
      "cell_type": "markdown",
      "source": [
        "From the data above it could be concluded the optimal K value is 20. "
      ],
      "metadata": {
        "id": "0gBxJOZJh8YF"
      }
    },
    {
      "cell_type": "markdown",
      "source": [
        "----\n",
        "# Comparing with sklearn\n",
        "----"
      ],
      "metadata": {
        "id": "EcJpEvCXaxlg"
      }
    },
    {
      "cell_type": "code",
      "source": [
        "classifier = KNeighborsClassifier(n_neighbors=20)\n",
        "classifier.fit(X_train, y_train)\n",
        "y_predict = classifier.predict(X_test)\n",
        "\n",
        "print(confusion_matrix(y_test, y_predict))\n",
        "print(classification_report(y_test, y_predict))\n"
      ],
      "metadata": {
        "colab": {
          "base_uri": "https://localhost:8080/"
        },
        "id": "0DypToH1a08f",
        "outputId": "f2991c0b-ac0c-4f48-a2a3-7b755abd8d4c"
      },
      "execution_count": null,
      "outputs": [
        {
          "output_type": "stream",
          "name": "stdout",
          "text": [
            "[[127  29]\n",
            " [ 28 114]]\n",
            "              precision    recall  f1-score   support\n",
            "\n",
            "           0       0.82      0.81      0.82       156\n",
            "           1       0.80      0.80      0.80       142\n",
            "\n",
            "    accuracy                           0.81       298\n",
            "   macro avg       0.81      0.81      0.81       298\n",
            "weighted avg       0.81      0.81      0.81       298\n",
            "\n"
          ]
        },
        {
          "output_type": "stream",
          "name": "stderr",
          "text": [
            "/usr/local/lib/python3.7/dist-packages/sklearn/neighbors/_classification.py:198: DataConversionWarning: A column-vector y was passed when a 1d array was expected. Please change the shape of y to (n_samples,), for example using ravel().\n",
            "  return self._fit(X, y)\n"
          ]
        }
      ]
    },
    {
      "cell_type": "markdown",
      "source": [
        "sklearn has an accuracy of 0.81, whereas our classifer has an accuracy of 0.83"
      ],
      "metadata": {
        "id": "wcE2trXY4ex0"
      }
    }
  ]
}