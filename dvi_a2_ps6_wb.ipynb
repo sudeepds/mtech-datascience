{
  "cells": [
    {
      "cell_type": "markdown",
      "metadata": {
        "id": "view-in-github",
        "colab_type": "text"
      },
      "source": [
        "<a href=\"https://colab.research.google.com/github/sudeepds/mtech-datascience/blob/main/dvi_a2_ps6_wb.ipynb\" target=\"_parent\"><img src=\"https://colab.research.google.com/assets/colab-badge.svg\" alt=\"Open In Colab\"/></a>"
      ]
    },
    {
      "cell_type": "markdown",
      "metadata": {
        "id": "2YgdUErwBv4p"
      },
      "source": [
        "<img src = \"https://www.bits-pilani.ac.in/Uploads/Campus/BITS_university_logo.gif\">"
      ]
    },
    {
      "cell_type": "markdown",
      "metadata": {
        "id": "sCMobWZQBv48"
      },
      "source": [
        "<h1><center>Work Integrated Learning Programmes Division<br>\n",
        "M.Tech (Data Science and Engineering)<br> Data Visualization And Interpretation (DSECL ZG555))<br>\n",
        "First Semester, 2021-22\n",
        "</center></h1>\n",
        "\n",
        "<h2><center>Assignment 2 – PS6 [Weightage 13%]</center></h2>"
      ]
    },
    {
      "cell_type": "markdown",
      "metadata": {
        "id": "EBI1_F3OBv5A"
      },
      "source": [
        "## Instructions\n",
        "<ol>\n",
        "  <li>Do not change the name of the data file that is shared with the problem statement.</li>\n",
        "  <li>If intermediate data files are created, retain in the present working directory and attach them during submission.</li>\n",
        "  <li>Retain the data file in the same directory as that of this workbook.</li>\n",
        "  <li>Retain the Visualizations that is produced in the file. Don't clear them away.</li>\n",
        "  <li>Submit only the .IPYNB file. Intermediate files to be attached as mentioned in (2).</li>\n",
        "    <li><b><div class=\"alert-warning\">All the visuals should adhere to the visualization principles learnt in the Course and must be presentation ready.Most effective visuals would fetch maximum credits</div></b></li>    \n",
        "    <li><b><div class=\"alert-warning\">Submissions done via means other than CANVAS will strictly be NOT graded.</div></b></li>\n",
        "    \n",
        "\n",
        "\n",
        "  \n",
        "</ol>"
      ]
    },
    {
      "cell_type": "markdown",
      "metadata": {
        "id": "JS5MfsFoBv5D"
      },
      "source": [
        "<style>\n",
        "table {\n",
        "  font-family: arial, sans-serif;\n",
        "  border-collapse: collapse;\n",
        "  width: 100%;\n",
        "}\n",
        "\n",
        "td, th {\n",
        "  border: 1px solid #dddddd;\n",
        "  text-align: left;\n",
        "  padding: 8px;\n",
        "}\n",
        "\n",
        "tr:nth-child(even) {\n",
        "  background-color: #dddddd;\n",
        "}\n",
        "</style>\n",
        "\n",
        "<h2>Group No: 006</h2>\n",
        "\n",
        "<table>\n",
        "  <tr>\n",
        "    <th>Full Name</th>\n",
        "    <th>BITS ID</th>\n",
        "  </tr>\n",
        "  <tr>\n",
        "    <td>Lalu George</td>\n",
        "    <td>2020sc04489</td>\n",
        "  </tr>\n",
        "  <tr>\n",
        "    <td>Abhilash Pillai</td>\n",
        "    <td>2020sc04615</td>\n",
        "  </tr>\n",
        "  <tr>\n",
        "    <td>Sudeep Ghosh</td>\n",
        "    <td>2020sc04781</td>\n",
        "  </tr>\n",
        "</table>"
      ]
    },
    {
      "cell_type": "markdown",
      "metadata": {
        "id": "KVp0JMM_Bv5F"
      },
      "source": [
        "<h1>Objective</h1>\n",
        "<h4>Analyse the scenario of automobile production in India.</h4>\n"
      ]
    },
    {
      "cell_type": "markdown",
      "metadata": {
        "id": "A3ihmzEcBv5G"
      },
      "source": [
        "##  Download and Prep the Data: 1 Mark"
      ]
    },
    {
      "cell_type": "markdown",
      "metadata": {
        "id": "AtsB7xdMBv5H"
      },
      "source": [
        "<h4>Import the libraries needed</h4>"
      ]
    },
    {
      "cell_type": "code",
      "execution_count": null,
      "metadata": {
        "id": "23ITpXWiBv5I"
      },
      "outputs": [],
      "source": [
        "import pandas as pd\n",
        "import matplotlib.pyplot as plt\n",
        "import numpy as np\n"
      ]
    },
    {
      "cell_type": "markdown",
      "metadata": {
        "id": "2UwMFDAiBv5J"
      },
      "source": [
        "<h4> Load data and store in dataframe </h4>"
      ]
    },
    {
      "cell_type": "code",
      "execution_count": null,
      "metadata": {
        "id": "ZR-V1h8PBv5N"
      },
      "outputs": [],
      "source": [
        "df = pd.read_csv('dvi-a2-ps6-data.csv')"
      ]
    },
    {
      "cell_type": "markdown",
      "metadata": {
        "id": "bF_8WPPFBv5O"
      },
      "source": [
        "<h4>Find out  what type of variables you are dealing with. This will help you find the right visualization method for that variable.</p>\n"
      ]
    },
    {
      "cell_type": "code",
      "execution_count": null,
      "metadata": {
        "id": "zzDBkl6lBv5Q",
        "colab": {
          "base_uri": "https://localhost:8080/",
          "height": 729
        },
        "outputId": "cb80d251-8b1f-49b0-f588-0e1a5dc4dcbe"
      },
      "outputs": [
        {
          "output_type": "stream",
          "name": "stdout",
          "text": [
            "<class 'pandas.core.frame.DataFrame'>\n",
            "RangeIndex: 19 entries, 0 to 18\n",
            "Data columns (total 14 columns):\n",
            " #   Column    Non-Null Count  Dtype  \n",
            "---  ------    --------------  -----  \n",
            " 0   Category  19 non-null     object \n",
            " 1   Segment   19 non-null     object \n",
            " 2   2001-02   18 non-null     float64\n",
            " 3   2002-03   18 non-null     float64\n",
            " 4   2003-04   18 non-null     float64\n",
            " 5   2004-05   18 non-null     float64\n",
            " 6   2005-06   18 non-null     float64\n",
            " 7   2006-07   19 non-null     int64  \n",
            " 8   2007-08   19 non-null     int64  \n",
            " 9   2008-09   19 non-null     int64  \n",
            " 10  2009-10   19 non-null     int64  \n",
            " 11  2010-11   12 non-null     float64\n",
            " 12  2011-12   12 non-null     float64\n",
            " 13  2012-13   12 non-null     float64\n",
            "dtypes: float64(8), int64(4), object(2)\n",
            "memory usage: 2.2+ KB\n"
          ]
        },
        {
          "output_type": "execute_result",
          "data": {
            "text/plain": [
              "            2001-02       2002-03       2003-04       2004-05       2005-06  \\\n",
              "count  1.800000e+01  1.800000e+01  1.800000e+01  1.800000e+01  1.800000e+01   \n",
              "mean   8.950786e+05  1.057978e+06  1.222541e+06  1.430959e+06  1.645644e+06   \n",
              "std    1.580160e+06  1.909587e+06  2.157221e+06  2.525891e+06  2.943230e+06   \n",
              "min    1.497700e+04  1.982100e+04  2.096200e+04  2.261900e+04  2.539500e+04   \n",
              "25%    6.843425e+04  8.723275e+04  1.179780e+05  1.502690e+05  1.764192e+05   \n",
              "50%    1.697155e+05  2.070755e+05  2.600620e+05  2.989130e+05  3.334905e+05   \n",
              "75%    6.273645e+05  6.818500e+05  8.970998e+05  9.807452e+05  1.039853e+06   \n",
              "max    5.316302e+06  6.279967e+06  7.243564e+06  8.467853e+06  9.743503e+06   \n",
              "\n",
              "            2006-07       2007-08       2008-09       2009-10       2010-11  \\\n",
              "count  1.900000e+01  1.900000e+01  1.900000e+01  1.900000e+01  1.200000e+01   \n",
              "mean   1.778103e+06  1.742673e+06  1.785984e+06  2.249353e+06  4.412379e+06   \n",
              "std    3.259132e+06  3.113237e+06  3.243790e+06  4.059420e+06  6.022076e+06   \n",
              "min    2.944300e+04  1.738900e+04  2.417900e+04  2.567000e+03  3.445420e+05   \n",
              "25%    2.110125e+05  2.342910e+05  1.717855e+05  2.271390e+05  6.619770e+05   \n",
              "50%    3.799870e+05  3.710600e+05  4.168700e+05  5.302030e+05  1.472159e+06   \n",
              "75%    1.091003e+06  1.250572e+06  1.339122e+06  1.713514e+06  4.872250e+06   \n",
              "max    1.108799e+07  1.085393e+07  1.117228e+07  1.405706e+07  1.791604e+07   \n",
              "\n",
              "            2011-12       2012-13  \n",
              "count  1.200000e+01  1.200000e+01  \n",
              "mean   5.022232e+06  5.086578e+06  \n",
              "std    6.887755e+06  6.962776e+06  \n",
              "min    3.709450e+05  2.785600e+05  \n",
              "25%    7.252260e+05  7.351975e+05  \n",
              "50%    1.794238e+06  1.754188e+06  \n",
              "75%    5.355219e+06  5.401224e+06  \n",
              "max    2.038203e+07  2.062623e+07  "
            ],
            "text/html": [
              "\n",
              "  <div id=\"df-429d4438-f65b-4c3d-ac32-70dcf59541d2\">\n",
              "    <div class=\"colab-df-container\">\n",
              "      <div>\n",
              "<style scoped>\n",
              "    .dataframe tbody tr th:only-of-type {\n",
              "        vertical-align: middle;\n",
              "    }\n",
              "\n",
              "    .dataframe tbody tr th {\n",
              "        vertical-align: top;\n",
              "    }\n",
              "\n",
              "    .dataframe thead th {\n",
              "        text-align: right;\n",
              "    }\n",
              "</style>\n",
              "<table border=\"1\" class=\"dataframe\">\n",
              "  <thead>\n",
              "    <tr style=\"text-align: right;\">\n",
              "      <th></th>\n",
              "      <th>2001-02</th>\n",
              "      <th>2002-03</th>\n",
              "      <th>2003-04</th>\n",
              "      <th>2004-05</th>\n",
              "      <th>2005-06</th>\n",
              "      <th>2006-07</th>\n",
              "      <th>2007-08</th>\n",
              "      <th>2008-09</th>\n",
              "      <th>2009-10</th>\n",
              "      <th>2010-11</th>\n",
              "      <th>2011-12</th>\n",
              "      <th>2012-13</th>\n",
              "    </tr>\n",
              "  </thead>\n",
              "  <tbody>\n",
              "    <tr>\n",
              "      <th>count</th>\n",
              "      <td>1.800000e+01</td>\n",
              "      <td>1.800000e+01</td>\n",
              "      <td>1.800000e+01</td>\n",
              "      <td>1.800000e+01</td>\n",
              "      <td>1.800000e+01</td>\n",
              "      <td>1.900000e+01</td>\n",
              "      <td>1.900000e+01</td>\n",
              "      <td>1.900000e+01</td>\n",
              "      <td>1.900000e+01</td>\n",
              "      <td>1.200000e+01</td>\n",
              "      <td>1.200000e+01</td>\n",
              "      <td>1.200000e+01</td>\n",
              "    </tr>\n",
              "    <tr>\n",
              "      <th>mean</th>\n",
              "      <td>8.950786e+05</td>\n",
              "      <td>1.057978e+06</td>\n",
              "      <td>1.222541e+06</td>\n",
              "      <td>1.430959e+06</td>\n",
              "      <td>1.645644e+06</td>\n",
              "      <td>1.778103e+06</td>\n",
              "      <td>1.742673e+06</td>\n",
              "      <td>1.785984e+06</td>\n",
              "      <td>2.249353e+06</td>\n",
              "      <td>4.412379e+06</td>\n",
              "      <td>5.022232e+06</td>\n",
              "      <td>5.086578e+06</td>\n",
              "    </tr>\n",
              "    <tr>\n",
              "      <th>std</th>\n",
              "      <td>1.580160e+06</td>\n",
              "      <td>1.909587e+06</td>\n",
              "      <td>2.157221e+06</td>\n",
              "      <td>2.525891e+06</td>\n",
              "      <td>2.943230e+06</td>\n",
              "      <td>3.259132e+06</td>\n",
              "      <td>3.113237e+06</td>\n",
              "      <td>3.243790e+06</td>\n",
              "      <td>4.059420e+06</td>\n",
              "      <td>6.022076e+06</td>\n",
              "      <td>6.887755e+06</td>\n",
              "      <td>6.962776e+06</td>\n",
              "    </tr>\n",
              "    <tr>\n",
              "      <th>min</th>\n",
              "      <td>1.497700e+04</td>\n",
              "      <td>1.982100e+04</td>\n",
              "      <td>2.096200e+04</td>\n",
              "      <td>2.261900e+04</td>\n",
              "      <td>2.539500e+04</td>\n",
              "      <td>2.944300e+04</td>\n",
              "      <td>1.738900e+04</td>\n",
              "      <td>2.417900e+04</td>\n",
              "      <td>2.567000e+03</td>\n",
              "      <td>3.445420e+05</td>\n",
              "      <td>3.709450e+05</td>\n",
              "      <td>2.785600e+05</td>\n",
              "    </tr>\n",
              "    <tr>\n",
              "      <th>25%</th>\n",
              "      <td>6.843425e+04</td>\n",
              "      <td>8.723275e+04</td>\n",
              "      <td>1.179780e+05</td>\n",
              "      <td>1.502690e+05</td>\n",
              "      <td>1.764192e+05</td>\n",
              "      <td>2.110125e+05</td>\n",
              "      <td>2.342910e+05</td>\n",
              "      <td>1.717855e+05</td>\n",
              "      <td>2.271390e+05</td>\n",
              "      <td>6.619770e+05</td>\n",
              "      <td>7.252260e+05</td>\n",
              "      <td>7.351975e+05</td>\n",
              "    </tr>\n",
              "    <tr>\n",
              "      <th>50%</th>\n",
              "      <td>1.697155e+05</td>\n",
              "      <td>2.070755e+05</td>\n",
              "      <td>2.600620e+05</td>\n",
              "      <td>2.989130e+05</td>\n",
              "      <td>3.334905e+05</td>\n",
              "      <td>3.799870e+05</td>\n",
              "      <td>3.710600e+05</td>\n",
              "      <td>4.168700e+05</td>\n",
              "      <td>5.302030e+05</td>\n",
              "      <td>1.472159e+06</td>\n",
              "      <td>1.794238e+06</td>\n",
              "      <td>1.754188e+06</td>\n",
              "    </tr>\n",
              "    <tr>\n",
              "      <th>75%</th>\n",
              "      <td>6.273645e+05</td>\n",
              "      <td>6.818500e+05</td>\n",
              "      <td>8.970998e+05</td>\n",
              "      <td>9.807452e+05</td>\n",
              "      <td>1.039853e+06</td>\n",
              "      <td>1.091003e+06</td>\n",
              "      <td>1.250572e+06</td>\n",
              "      <td>1.339122e+06</td>\n",
              "      <td>1.713514e+06</td>\n",
              "      <td>4.872250e+06</td>\n",
              "      <td>5.355219e+06</td>\n",
              "      <td>5.401224e+06</td>\n",
              "    </tr>\n",
              "    <tr>\n",
              "      <th>max</th>\n",
              "      <td>5.316302e+06</td>\n",
              "      <td>6.279967e+06</td>\n",
              "      <td>7.243564e+06</td>\n",
              "      <td>8.467853e+06</td>\n",
              "      <td>9.743503e+06</td>\n",
              "      <td>1.108799e+07</td>\n",
              "      <td>1.085393e+07</td>\n",
              "      <td>1.117228e+07</td>\n",
              "      <td>1.405706e+07</td>\n",
              "      <td>1.791604e+07</td>\n",
              "      <td>2.038203e+07</td>\n",
              "      <td>2.062623e+07</td>\n",
              "    </tr>\n",
              "  </tbody>\n",
              "</table>\n",
              "</div>\n",
              "      <button class=\"colab-df-convert\" onclick=\"convertToInteractive('df-429d4438-f65b-4c3d-ac32-70dcf59541d2')\"\n",
              "              title=\"Convert this dataframe to an interactive table.\"\n",
              "              style=\"display:none;\">\n",
              "        \n",
              "  <svg xmlns=\"http://www.w3.org/2000/svg\" height=\"24px\"viewBox=\"0 0 24 24\"\n",
              "       width=\"24px\">\n",
              "    <path d=\"M0 0h24v24H0V0z\" fill=\"none\"/>\n",
              "    <path d=\"M18.56 5.44l.94 2.06.94-2.06 2.06-.94-2.06-.94-.94-2.06-.94 2.06-2.06.94zm-11 1L8.5 8.5l.94-2.06 2.06-.94-2.06-.94L8.5 2.5l-.94 2.06-2.06.94zm10 10l.94 2.06.94-2.06 2.06-.94-2.06-.94-.94-2.06-.94 2.06-2.06.94z\"/><path d=\"M17.41 7.96l-1.37-1.37c-.4-.4-.92-.59-1.43-.59-.52 0-1.04.2-1.43.59L10.3 9.45l-7.72 7.72c-.78.78-.78 2.05 0 2.83L4 21.41c.39.39.9.59 1.41.59.51 0 1.02-.2 1.41-.59l7.78-7.78 2.81-2.81c.8-.78.8-2.07 0-2.86zM5.41 20L4 18.59l7.72-7.72 1.47 1.35L5.41 20z\"/>\n",
              "  </svg>\n",
              "      </button>\n",
              "      \n",
              "  <style>\n",
              "    .colab-df-container {\n",
              "      display:flex;\n",
              "      flex-wrap:wrap;\n",
              "      gap: 12px;\n",
              "    }\n",
              "\n",
              "    .colab-df-convert {\n",
              "      background-color: #E8F0FE;\n",
              "      border: none;\n",
              "      border-radius: 50%;\n",
              "      cursor: pointer;\n",
              "      display: none;\n",
              "      fill: #1967D2;\n",
              "      height: 32px;\n",
              "      padding: 0 0 0 0;\n",
              "      width: 32px;\n",
              "    }\n",
              "\n",
              "    .colab-df-convert:hover {\n",
              "      background-color: #E2EBFA;\n",
              "      box-shadow: 0px 1px 2px rgba(60, 64, 67, 0.3), 0px 1px 3px 1px rgba(60, 64, 67, 0.15);\n",
              "      fill: #174EA6;\n",
              "    }\n",
              "\n",
              "    [theme=dark] .colab-df-convert {\n",
              "      background-color: #3B4455;\n",
              "      fill: #D2E3FC;\n",
              "    }\n",
              "\n",
              "    [theme=dark] .colab-df-convert:hover {\n",
              "      background-color: #434B5C;\n",
              "      box-shadow: 0px 1px 3px 1px rgba(0, 0, 0, 0.15);\n",
              "      filter: drop-shadow(0px 1px 2px rgba(0, 0, 0, 0.3));\n",
              "      fill: #FFFFFF;\n",
              "    }\n",
              "  </style>\n",
              "\n",
              "      <script>\n",
              "        const buttonEl =\n",
              "          document.querySelector('#df-429d4438-f65b-4c3d-ac32-70dcf59541d2 button.colab-df-convert');\n",
              "        buttonEl.style.display =\n",
              "          google.colab.kernel.accessAllowed ? 'block' : 'none';\n",
              "\n",
              "        async function convertToInteractive(key) {\n",
              "          const element = document.querySelector('#df-429d4438-f65b-4c3d-ac32-70dcf59541d2');\n",
              "          const dataTable =\n",
              "            await google.colab.kernel.invokeFunction('convertToInteractive',\n",
              "                                                     [key], {});\n",
              "          if (!dataTable) return;\n",
              "\n",
              "          const docLinkHtml = 'Like what you see? Visit the ' +\n",
              "            '<a target=\"_blank\" href=https://colab.research.google.com/notebooks/data_table.ipynb>data table notebook</a>'\n",
              "            + ' to learn more about interactive tables.';\n",
              "          element.innerHTML = '';\n",
              "          dataTable['output_type'] = 'display_data';\n",
              "          await google.colab.output.renderOutput(dataTable, element);\n",
              "          const docLink = document.createElement('div');\n",
              "          docLink.innerHTML = docLinkHtml;\n",
              "          element.appendChild(docLink);\n",
              "        }\n",
              "      </script>\n",
              "    </div>\n",
              "  </div>\n",
              "  "
            ]
          },
          "metadata": {},
          "execution_count": 88
        }
      ],
      "source": [
        "df.info()\n",
        "df.describe()"
      ]
    },
    {
      "cell_type": "markdown",
      "metadata": {
        "id": "WGXp0ODBBv5Q"
      },
      "source": [
        "<h4>Perform data cleaning and mention the steps</h4>"
      ]
    },
    {
      "cell_type": "code",
      "execution_count": null,
      "metadata": {
        "id": "-GCVoLO2Bv5R",
        "colab": {
          "base_uri": "https://localhost:8080/",
          "height": 645
        },
        "outputId": "b77e1cb6-0f9c-484a-fe57-4ce7223da071"
      },
      "outputs": [
        {
          "output_type": "execute_result",
          "data": {
            "text/plain": [
              "      2001-02    2002-03    2003-04    2004-05    2005-06     2006-07  \\\n",
              "0    500301.0   557410.0   782562.0   960487.0  1046133.0   1238032.0   \n",
              "1    169418.0   165920.0   206998.0   249389.0   263167.0    307202.0   \n",
              "2    669719.0   723330.0   989560.0  1209876.0  1309300.0   1545234.0   \n",
              "3     20283.0    21156.0    27628.0    30419.0    28982.0     32828.0   \n",
              "4     76469.0    99346.0   138495.0   184388.0   190313.0    261438.0   \n",
              "5     96752.0   120502.0   166123.0   214807.0   219295.0    294258.0   \n",
              "6     14977.0    19821.0    20962.0    22619.0    25395.0     29443.0   \n",
              "7     50779.0    63374.0    87955.0   116277.0   146393.0    196291.0   \n",
              "8     65756.0    83195.0   108917.0   138896.0   171788.0    225734.0   \n",
              "9    162508.0   203697.0   275040.0   353703.0   391083.0    519982.0   \n",
              "10   170013.0   210454.0   245084.0   237413.0   286987.0    385443.0   \n",
              "11    42735.0    66265.0   111139.0   137032.0   147436.0    170681.0   \n",
              "12   212748.0   276719.0   356223.0   374445.0   434423.0    556126.0   \n",
              "13   937506.0   848434.0   935279.0   987498.0  1021013.0    943974.0   \n",
              "14  2906323.0  3876175.0  4355168.0  5193894.0  6207690.0   7112225.0   \n",
              "15   427498.0   351612.0   332294.0   348437.0   379994.0    379987.0   \n",
              "16        0.0        0.0        0.0        0.0        0.0     30454.0   \n",
              "17  4271327.0  5076221.0  5622741.0  6529829.0  7608697.0   8466640.0   \n",
              "18  5316302.0  6279967.0  7243564.0  8467853.0  9743503.0  11087992.0   \n",
              "\n",
              "       2007-08     2008-09     2009-10     2010-11     2011-12     2012-13  \n",
              "0    1426212.0   1516967.0   1932620.0   2453113.0   2775124.0   2668633.0  \n",
              "1     351371.0    321626.0    424791.0    534183.0    370945.0    564928.0  \n",
              "2    1777583.0   1838593.0   2357411.0   2987296.0   3146069.0   3233561.0  \n",
              "3      46542.0     40995.0     46026.0     46026.0     46026.0     46026.0  \n",
              "4     248415.0    151288.0    204145.0    204145.0    204145.0    204145.0  \n",
              "5     294957.0    192283.0    250133.0    344542.0    384801.0    278560.0  \n",
              "6      33882.0     28635.0     34751.0     34751.0     34751.0     34751.0  \n",
              "7     220167.0    195952.0    281686.0    281686.0    281686.0    281686.0  \n",
              "8     254049.0    224587.0    317423.0    408193.0    544335.0    553184.0  \n",
              "9     549006.0    416870.0    567556.0    752735.0    929136.0    831744.0  \n",
              "10    371060.0    417434.0    530203.0    530203.0    530203.0    530203.0  \n",
              "11    129600.0     79586.0     88890.0     88890.0     88890.0     88890.0  \n",
              "12    500660.0    497020.0    619194.0    799553.0    879289.0    839742.0  \n",
              "13   1074933.0   1161276.0   1494409.0   2144765.0   2659340.0   3025014.0  \n",
              "14   6503532.0   6798118.0   8444857.0  10527111.0  11982669.0  11904212.0  \n",
              "15    430827.0    436219.0    571070.0    704575.0    785523.0    791954.0  \n",
              "16     17389.0     24179.0      2567.0      2567.0      2567.0      2567.0  \n",
              "17   8026681.0   8419792.0  10512903.0  13376451.0  15427532.0  15721180.0  \n",
              "18  10853930.0  11172275.0  14057064.0  17916035.0  20382026.0  20626227.0  "
            ],
            "text/html": [
              "\n",
              "  <div id=\"df-bc472a4a-0f86-404c-9219-f00b4f90198b\">\n",
              "    <div class=\"colab-df-container\">\n",
              "      <div>\n",
              "<style scoped>\n",
              "    .dataframe tbody tr th:only-of-type {\n",
              "        vertical-align: middle;\n",
              "    }\n",
              "\n",
              "    .dataframe tbody tr th {\n",
              "        vertical-align: top;\n",
              "    }\n",
              "\n",
              "    .dataframe thead th {\n",
              "        text-align: right;\n",
              "    }\n",
              "</style>\n",
              "<table border=\"1\" class=\"dataframe\">\n",
              "  <thead>\n",
              "    <tr style=\"text-align: right;\">\n",
              "      <th></th>\n",
              "      <th>2001-02</th>\n",
              "      <th>2002-03</th>\n",
              "      <th>2003-04</th>\n",
              "      <th>2004-05</th>\n",
              "      <th>2005-06</th>\n",
              "      <th>2006-07</th>\n",
              "      <th>2007-08</th>\n",
              "      <th>2008-09</th>\n",
              "      <th>2009-10</th>\n",
              "      <th>2010-11</th>\n",
              "      <th>2011-12</th>\n",
              "      <th>2012-13</th>\n",
              "    </tr>\n",
              "  </thead>\n",
              "  <tbody>\n",
              "    <tr>\n",
              "      <th>0</th>\n",
              "      <td>500301.0</td>\n",
              "      <td>557410.0</td>\n",
              "      <td>782562.0</td>\n",
              "      <td>960487.0</td>\n",
              "      <td>1046133.0</td>\n",
              "      <td>1238032.0</td>\n",
              "      <td>1426212.0</td>\n",
              "      <td>1516967.0</td>\n",
              "      <td>1932620.0</td>\n",
              "      <td>2453113.0</td>\n",
              "      <td>2775124.0</td>\n",
              "      <td>2668633.0</td>\n",
              "    </tr>\n",
              "    <tr>\n",
              "      <th>1</th>\n",
              "      <td>169418.0</td>\n",
              "      <td>165920.0</td>\n",
              "      <td>206998.0</td>\n",
              "      <td>249389.0</td>\n",
              "      <td>263167.0</td>\n",
              "      <td>307202.0</td>\n",
              "      <td>351371.0</td>\n",
              "      <td>321626.0</td>\n",
              "      <td>424791.0</td>\n",
              "      <td>534183.0</td>\n",
              "      <td>370945.0</td>\n",
              "      <td>564928.0</td>\n",
              "    </tr>\n",
              "    <tr>\n",
              "      <th>2</th>\n",
              "      <td>669719.0</td>\n",
              "      <td>723330.0</td>\n",
              "      <td>989560.0</td>\n",
              "      <td>1209876.0</td>\n",
              "      <td>1309300.0</td>\n",
              "      <td>1545234.0</td>\n",
              "      <td>1777583.0</td>\n",
              "      <td>1838593.0</td>\n",
              "      <td>2357411.0</td>\n",
              "      <td>2987296.0</td>\n",
              "      <td>3146069.0</td>\n",
              "      <td>3233561.0</td>\n",
              "    </tr>\n",
              "    <tr>\n",
              "      <th>3</th>\n",
              "      <td>20283.0</td>\n",
              "      <td>21156.0</td>\n",
              "      <td>27628.0</td>\n",
              "      <td>30419.0</td>\n",
              "      <td>28982.0</td>\n",
              "      <td>32828.0</td>\n",
              "      <td>46542.0</td>\n",
              "      <td>40995.0</td>\n",
              "      <td>46026.0</td>\n",
              "      <td>46026.0</td>\n",
              "      <td>46026.0</td>\n",
              "      <td>46026.0</td>\n",
              "    </tr>\n",
              "    <tr>\n",
              "      <th>4</th>\n",
              "      <td>76469.0</td>\n",
              "      <td>99346.0</td>\n",
              "      <td>138495.0</td>\n",
              "      <td>184388.0</td>\n",
              "      <td>190313.0</td>\n",
              "      <td>261438.0</td>\n",
              "      <td>248415.0</td>\n",
              "      <td>151288.0</td>\n",
              "      <td>204145.0</td>\n",
              "      <td>204145.0</td>\n",
              "      <td>204145.0</td>\n",
              "      <td>204145.0</td>\n",
              "    </tr>\n",
              "    <tr>\n",
              "      <th>5</th>\n",
              "      <td>96752.0</td>\n",
              "      <td>120502.0</td>\n",
              "      <td>166123.0</td>\n",
              "      <td>214807.0</td>\n",
              "      <td>219295.0</td>\n",
              "      <td>294258.0</td>\n",
              "      <td>294957.0</td>\n",
              "      <td>192283.0</td>\n",
              "      <td>250133.0</td>\n",
              "      <td>344542.0</td>\n",
              "      <td>384801.0</td>\n",
              "      <td>278560.0</td>\n",
              "    </tr>\n",
              "    <tr>\n",
              "      <th>6</th>\n",
              "      <td>14977.0</td>\n",
              "      <td>19821.0</td>\n",
              "      <td>20962.0</td>\n",
              "      <td>22619.0</td>\n",
              "      <td>25395.0</td>\n",
              "      <td>29443.0</td>\n",
              "      <td>33882.0</td>\n",
              "      <td>28635.0</td>\n",
              "      <td>34751.0</td>\n",
              "      <td>34751.0</td>\n",
              "      <td>34751.0</td>\n",
              "      <td>34751.0</td>\n",
              "    </tr>\n",
              "    <tr>\n",
              "      <th>7</th>\n",
              "      <td>50779.0</td>\n",
              "      <td>63374.0</td>\n",
              "      <td>87955.0</td>\n",
              "      <td>116277.0</td>\n",
              "      <td>146393.0</td>\n",
              "      <td>196291.0</td>\n",
              "      <td>220167.0</td>\n",
              "      <td>195952.0</td>\n",
              "      <td>281686.0</td>\n",
              "      <td>281686.0</td>\n",
              "      <td>281686.0</td>\n",
              "      <td>281686.0</td>\n",
              "    </tr>\n",
              "    <tr>\n",
              "      <th>8</th>\n",
              "      <td>65756.0</td>\n",
              "      <td>83195.0</td>\n",
              "      <td>108917.0</td>\n",
              "      <td>138896.0</td>\n",
              "      <td>171788.0</td>\n",
              "      <td>225734.0</td>\n",
              "      <td>254049.0</td>\n",
              "      <td>224587.0</td>\n",
              "      <td>317423.0</td>\n",
              "      <td>408193.0</td>\n",
              "      <td>544335.0</td>\n",
              "      <td>553184.0</td>\n",
              "    </tr>\n",
              "    <tr>\n",
              "      <th>9</th>\n",
              "      <td>162508.0</td>\n",
              "      <td>203697.0</td>\n",
              "      <td>275040.0</td>\n",
              "      <td>353703.0</td>\n",
              "      <td>391083.0</td>\n",
              "      <td>519982.0</td>\n",
              "      <td>549006.0</td>\n",
              "      <td>416870.0</td>\n",
              "      <td>567556.0</td>\n",
              "      <td>752735.0</td>\n",
              "      <td>929136.0</td>\n",
              "      <td>831744.0</td>\n",
              "    </tr>\n",
              "    <tr>\n",
              "      <th>10</th>\n",
              "      <td>170013.0</td>\n",
              "      <td>210454.0</td>\n",
              "      <td>245084.0</td>\n",
              "      <td>237413.0</td>\n",
              "      <td>286987.0</td>\n",
              "      <td>385443.0</td>\n",
              "      <td>371060.0</td>\n",
              "      <td>417434.0</td>\n",
              "      <td>530203.0</td>\n",
              "      <td>530203.0</td>\n",
              "      <td>530203.0</td>\n",
              "      <td>530203.0</td>\n",
              "    </tr>\n",
              "    <tr>\n",
              "      <th>11</th>\n",
              "      <td>42735.0</td>\n",
              "      <td>66265.0</td>\n",
              "      <td>111139.0</td>\n",
              "      <td>137032.0</td>\n",
              "      <td>147436.0</td>\n",
              "      <td>170681.0</td>\n",
              "      <td>129600.0</td>\n",
              "      <td>79586.0</td>\n",
              "      <td>88890.0</td>\n",
              "      <td>88890.0</td>\n",
              "      <td>88890.0</td>\n",
              "      <td>88890.0</td>\n",
              "    </tr>\n",
              "    <tr>\n",
              "      <th>12</th>\n",
              "      <td>212748.0</td>\n",
              "      <td>276719.0</td>\n",
              "      <td>356223.0</td>\n",
              "      <td>374445.0</td>\n",
              "      <td>434423.0</td>\n",
              "      <td>556126.0</td>\n",
              "      <td>500660.0</td>\n",
              "      <td>497020.0</td>\n",
              "      <td>619194.0</td>\n",
              "      <td>799553.0</td>\n",
              "      <td>879289.0</td>\n",
              "      <td>839742.0</td>\n",
              "    </tr>\n",
              "    <tr>\n",
              "      <th>13</th>\n",
              "      <td>937506.0</td>\n",
              "      <td>848434.0</td>\n",
              "      <td>935279.0</td>\n",
              "      <td>987498.0</td>\n",
              "      <td>1021013.0</td>\n",
              "      <td>943974.0</td>\n",
              "      <td>1074933.0</td>\n",
              "      <td>1161276.0</td>\n",
              "      <td>1494409.0</td>\n",
              "      <td>2144765.0</td>\n",
              "      <td>2659340.0</td>\n",
              "      <td>3025014.0</td>\n",
              "    </tr>\n",
              "    <tr>\n",
              "      <th>14</th>\n",
              "      <td>2906323.0</td>\n",
              "      <td>3876175.0</td>\n",
              "      <td>4355168.0</td>\n",
              "      <td>5193894.0</td>\n",
              "      <td>6207690.0</td>\n",
              "      <td>7112225.0</td>\n",
              "      <td>6503532.0</td>\n",
              "      <td>6798118.0</td>\n",
              "      <td>8444857.0</td>\n",
              "      <td>10527111.0</td>\n",
              "      <td>11982669.0</td>\n",
              "      <td>11904212.0</td>\n",
              "    </tr>\n",
              "    <tr>\n",
              "      <th>15</th>\n",
              "      <td>427498.0</td>\n",
              "      <td>351612.0</td>\n",
              "      <td>332294.0</td>\n",
              "      <td>348437.0</td>\n",
              "      <td>379994.0</td>\n",
              "      <td>379987.0</td>\n",
              "      <td>430827.0</td>\n",
              "      <td>436219.0</td>\n",
              "      <td>571070.0</td>\n",
              "      <td>704575.0</td>\n",
              "      <td>785523.0</td>\n",
              "      <td>791954.0</td>\n",
              "    </tr>\n",
              "    <tr>\n",
              "      <th>16</th>\n",
              "      <td>0.0</td>\n",
              "      <td>0.0</td>\n",
              "      <td>0.0</td>\n",
              "      <td>0.0</td>\n",
              "      <td>0.0</td>\n",
              "      <td>30454.0</td>\n",
              "      <td>17389.0</td>\n",
              "      <td>24179.0</td>\n",
              "      <td>2567.0</td>\n",
              "      <td>2567.0</td>\n",
              "      <td>2567.0</td>\n",
              "      <td>2567.0</td>\n",
              "    </tr>\n",
              "    <tr>\n",
              "      <th>17</th>\n",
              "      <td>4271327.0</td>\n",
              "      <td>5076221.0</td>\n",
              "      <td>5622741.0</td>\n",
              "      <td>6529829.0</td>\n",
              "      <td>7608697.0</td>\n",
              "      <td>8466640.0</td>\n",
              "      <td>8026681.0</td>\n",
              "      <td>8419792.0</td>\n",
              "      <td>10512903.0</td>\n",
              "      <td>13376451.0</td>\n",
              "      <td>15427532.0</td>\n",
              "      <td>15721180.0</td>\n",
              "    </tr>\n",
              "    <tr>\n",
              "      <th>18</th>\n",
              "      <td>5316302.0</td>\n",
              "      <td>6279967.0</td>\n",
              "      <td>7243564.0</td>\n",
              "      <td>8467853.0</td>\n",
              "      <td>9743503.0</td>\n",
              "      <td>11087992.0</td>\n",
              "      <td>10853930.0</td>\n",
              "      <td>11172275.0</td>\n",
              "      <td>14057064.0</td>\n",
              "      <td>17916035.0</td>\n",
              "      <td>20382026.0</td>\n",
              "      <td>20626227.0</td>\n",
              "    </tr>\n",
              "  </tbody>\n",
              "</table>\n",
              "</div>\n",
              "      <button class=\"colab-df-convert\" onclick=\"convertToInteractive('df-bc472a4a-0f86-404c-9219-f00b4f90198b')\"\n",
              "              title=\"Convert this dataframe to an interactive table.\"\n",
              "              style=\"display:none;\">\n",
              "        \n",
              "  <svg xmlns=\"http://www.w3.org/2000/svg\" height=\"24px\"viewBox=\"0 0 24 24\"\n",
              "       width=\"24px\">\n",
              "    <path d=\"M0 0h24v24H0V0z\" fill=\"none\"/>\n",
              "    <path d=\"M18.56 5.44l.94 2.06.94-2.06 2.06-.94-2.06-.94-.94-2.06-.94 2.06-2.06.94zm-11 1L8.5 8.5l.94-2.06 2.06-.94-2.06-.94L8.5 2.5l-.94 2.06-2.06.94zm10 10l.94 2.06.94-2.06 2.06-.94-2.06-.94-.94-2.06-.94 2.06-2.06.94z\"/><path d=\"M17.41 7.96l-1.37-1.37c-.4-.4-.92-.59-1.43-.59-.52 0-1.04.2-1.43.59L10.3 9.45l-7.72 7.72c-.78.78-.78 2.05 0 2.83L4 21.41c.39.39.9.59 1.41.59.51 0 1.02-.2 1.41-.59l7.78-7.78 2.81-2.81c.8-.78.8-2.07 0-2.86zM5.41 20L4 18.59l7.72-7.72 1.47 1.35L5.41 20z\"/>\n",
              "  </svg>\n",
              "      </button>\n",
              "      \n",
              "  <style>\n",
              "    .colab-df-container {\n",
              "      display:flex;\n",
              "      flex-wrap:wrap;\n",
              "      gap: 12px;\n",
              "    }\n",
              "\n",
              "    .colab-df-convert {\n",
              "      background-color: #E8F0FE;\n",
              "      border: none;\n",
              "      border-radius: 50%;\n",
              "      cursor: pointer;\n",
              "      display: none;\n",
              "      fill: #1967D2;\n",
              "      height: 32px;\n",
              "      padding: 0 0 0 0;\n",
              "      width: 32px;\n",
              "    }\n",
              "\n",
              "    .colab-df-convert:hover {\n",
              "      background-color: #E2EBFA;\n",
              "      box-shadow: 0px 1px 2px rgba(60, 64, 67, 0.3), 0px 1px 3px 1px rgba(60, 64, 67, 0.15);\n",
              "      fill: #174EA6;\n",
              "    }\n",
              "\n",
              "    [theme=dark] .colab-df-convert {\n",
              "      background-color: #3B4455;\n",
              "      fill: #D2E3FC;\n",
              "    }\n",
              "\n",
              "    [theme=dark] .colab-df-convert:hover {\n",
              "      background-color: #434B5C;\n",
              "      box-shadow: 0px 1px 3px 1px rgba(0, 0, 0, 0.15);\n",
              "      filter: drop-shadow(0px 1px 2px rgba(0, 0, 0, 0.3));\n",
              "      fill: #FFFFFF;\n",
              "    }\n",
              "  </style>\n",
              "\n",
              "      <script>\n",
              "        const buttonEl =\n",
              "          document.querySelector('#df-bc472a4a-0f86-404c-9219-f00b4f90198b button.colab-df-convert');\n",
              "        buttonEl.style.display =\n",
              "          google.colab.kernel.accessAllowed ? 'block' : 'none';\n",
              "\n",
              "        async function convertToInteractive(key) {\n",
              "          const element = document.querySelector('#df-bc472a4a-0f86-404c-9219-f00b4f90198b');\n",
              "          const dataTable =\n",
              "            await google.colab.kernel.invokeFunction('convertToInteractive',\n",
              "                                                     [key], {});\n",
              "          if (!dataTable) return;\n",
              "\n",
              "          const docLinkHtml = 'Like what you see? Visit the ' +\n",
              "            '<a target=\"_blank\" href=https://colab.research.google.com/notebooks/data_table.ipynb>data table notebook</a>'\n",
              "            + ' to learn more about interactive tables.';\n",
              "          element.innerHTML = '';\n",
              "          dataTable['output_type'] = 'display_data';\n",
              "          await google.colab.output.renderOutput(dataTable, element);\n",
              "          const docLink = document.createElement('div');\n",
              "          docLink.innerHTML = docLinkHtml;\n",
              "          element.appendChild(docLink);\n",
              "        }\n",
              "      </script>\n",
              "    </div>\n",
              "  </div>\n",
              "  "
            ]
          },
          "metadata": {},
          "execution_count": 89
        }
      ],
      "source": [
        "# Checking number of null or NaN values\n",
        "df.isnull().sum()\n",
        "\n",
        "# Creating a new dataframe for data attributes\n",
        "new_df= df.drop(['Category', 'Segment'], axis=1)\n",
        "# Doing row wise forward fill\n",
        "new_df= new_df.ffill(axis = 1)\n",
        "# Filling 0 for the remaining NaN values.\n",
        "new_df.fillna(value=0, inplace=True)\n",
        "new_df"
      ]
    },
    {
      "cell_type": "markdown",
      "source": [
        "Steps performed for data cleaning:\n",
        "> * Row wise forward fill for NaN values.\n",
        "> * Performed 0 fill for NaN values till 2005-06 for Electric Two Wheelers."
      ],
      "metadata": {
        "id": "uphlqCU2KqVV"
      }
    },
    {
      "cell_type": "markdown",
      "metadata": {
        "id": "hmpHcR9YBv5R"
      },
      "source": [
        "# Visualisation Questions - 2 X 5 = 10 Marks"
      ]
    },
    {
      "cell_type": "markdown",
      "metadata": {
        "id": "63SFdkBYBv5S"
      },
      "source": [
        "### Question 1\n",
        "<h4>Compare the production of passenger vehicles and commercial vehicles in India from 2001-02 to 2012-13, in a single visual.<br><br>\n",
        "    Write the python code in the below cell to create appropriate visual to perform the above task.\n",
        "<h4>Answer in markdown cells below the visual <br><br>\n",
        "    1.Summarise your findings from the visual.<br>\n",
        "    2.The reason for selecting the chart type you did. <br>\n",
        "    3.Mention the pre-attentive attributes used.(atleast 2)<br>\n",
        "    4.Mention the gestalt principles used.(atleast 2)<br>\n",
        "    5.Fill in the blanks:<br><br>\n",
        "    <i>1.In percentage terms, the total growth recorded for passenger vehicles is ______ during the period from 2001-02 to 2012-13.</i><br><br>\n",
        "    <i>2.In percentage terms, the total growth recorded for commercial vehicles is ______ during the period from 2001-02 to 2012-13."
      ]
    },
    {
      "cell_type": "code",
      "source": [
        "new_df= df.drop(['Category', 'Segment'], axis=1)\n"
      ],
      "metadata": {
        "id": "p6rlkC3qYz84"
      },
      "execution_count": null,
      "outputs": []
    },
    {
      "cell_type": "code",
      "execution_count": null,
      "metadata": {
        "id": "UGibbaaOBv5T",
        "colab": {
          "base_uri": "https://localhost:8080/",
          "height": 513
        },
        "outputId": "7d05c956-c0aa-4fd0-c75e-869609bdae20"
      },
      "outputs": [
        {
          "output_type": "display_data",
          "data": {
            "text/plain": [
              "<Figure size 864x576 with 1 Axes>"
            ],
            "image/png": "[encoded data removed]"
          },
          "metadata": {
            "needs_background": "light"
          }
        }
      ],
      "source": [
        "x1 = new_df.columns\n",
        "y1 = new_df.iloc[df.index[df['Segment'] == 'Total Commercial Vehicles (CVs)']].values.flatten().tolist()\n",
        "y2 = new_df.iloc[df.index[df['Segment'] == 'Total Passenger Vehicles (PVs)']].values.flatten().tolist()\n",
        "\n",
        "barWidth = 0.25\n",
        "fig = plt.subplots(figsize =(12, 8))\n",
        "br1 = np.arange(len(y1))\n",
        "br2 = [x + barWidth for x in br1]\n",
        "\n",
        " \n",
        "# Make the plot\n",
        "plt.bar(br1, y1, color ='orange', width = barWidth,\n",
        "        edgecolor ='grey', label ='CVs')\n",
        "plt.bar(br2, y2, color ='royalblue', width = barWidth,\n",
        "        edgecolor ='grey', label ='PVs')\n",
        " \n",
        "# Adding Xticks\n",
        "plt.xlabel('Year wise production', fontweight ='bold', fontsize = 15)\n",
        "plt.ylabel('Numbers Produced(in lakhs)', fontweight ='bold', fontsize = 15)\n",
        "plt.xticks([r + barWidth for r in range(len(y1))],\n",
        "        new_df.columns)\n",
        " \n",
        "plt.legend()\n",
        "plt.show()\n"
      ]
    },
    {
      "cell_type": "code",
      "execution_count": null,
      "metadata": {
        "id": "FhmFUNuxBv5T",
        "colab": {
          "base_uri": "https://localhost:8080/"
        },
        "outputId": "7102780c-ccdd-4dfc-f657-b946adf9dab3"
      },
      "outputs": [
        {
          "output_type": "stream",
          "name": "stdout",
          "text": [
            "In percentage terms, the total growth recorded for passenger vehicles is  79.2884995829675  during the period from 2001-02 to 2012-13\n",
            "In percentage terms, the total growth recorded for commercial vehicles is  80.46177670052323  during the period from 2001-02 to 2012-13\n"
          ]
        }
      ],
      "source": [
        "# Calculating percentage\n",
        "\n",
        "## Passenger Vehicles 2001-02 to 2012-13.\n",
        "pv_df = new_df.iloc[df.index[df['Segment'] == 'Total Passenger Vehicles (PVs)']]\n",
        "percentage = ((pv_df['2012-13'] - pv_df['2001-02'])/pv_df['2012-13']) * 100\n",
        "print('In percentage terms, the total growth recorded for passenger vehicles is ', percentage.values[0],' during the period from 2001-02 to 2012-13')\n",
        "\n",
        "## Commercial Vehicles 2001-02 to 2012-13.\n",
        "cv_df = new_df.iloc[df.index[df['Segment'] == 'Total Commercial Vehicles (CVs)']]\n",
        "percentage = ((cv_df['2012-13'] - cv_df['2001-02'])/cv_df['2012-13']) * 100\n",
        "print('In percentage terms, the total growth recorded for commercial vehicles is ', percentage.values[0],' during the period from 2001-02 to 2012-13')\n",
        "\n"
      ]
    },
    {
      "cell_type": "markdown",
      "source": [
        "1.Summarise your findings from the visual: \n",
        "\n",
        "*   Passenger vehicles have seen a steady growth in production except between years 2008-09 and 2010-11 when it grew at a faster rate.\n",
        "*   Unlike Commercial Vehicles, Passenger vehicles have not seen downward trend in any year.\n",
        "*   Commercial vehicles have seen both upward and downward trends. A steady growth between year 2001-07 and then a fall in 2008-09. After that it grew again till 20011-12 before falling again.\n",
        "*   The ratio of vehicles produced between Passenger and commercial is around 3:1 in almost every year.\n",
        "\n",
        "2.The reason for selecting the chart type you did: Side by side bar chart gives a better year on year comparison between both the categories.\n",
        "3.Mention the pre-attentive attributes used.(atleast 2): Preattentive attributes used are\n",
        "*   Color\n",
        "*   Length: Length of each bar gives an impression of the volume produced.\n",
        "4.Mention the gestalt principles used.(atleast 2):\n",
        "*   Proximity\n",
        "*   Figure and Ground\n"
      ],
      "metadata": {
        "id": "yeF-ypAaMeix"
      }
    },
    {
      "cell_type": "markdown",
      "metadata": {
        "id": "8oYQhdeCBv5U"
      },
      "source": [
        "### Question 2\n",
        "<h4>Analyse the passenger vehicle production(segment wise) during 2001-02 to 2012-13<br><br>\n",
        "    Write the python code in the below cell to create the appropriate visual(single visual) to perform the above task .\n",
        "<h4>Answer in markdown cells below the visual <br><br>\n",
        "    1.Summarise your findings from the visual.<br>\n",
        "    2.The reason for selecting the chart type you did. <br>\n",
        "    3.Mention the pre-attentive attributes used.(atleast 2)<br>\n",
        "    4.Mention the gestalt principles used.(atleast 2)<br>\n",
        "    5.Fill in the blanks.<br>\n",
        "    \n",
        "   <i>1.In percentage terms, the growth of production of passenger cars in India was ________ during the period from 2001-02 to 2012-13</i><br><br>\n",
        "    <i>2.In percentage terms, the growth the production of Multi-Utility Vehicles in India was ________ during the period from 2001-02 to 2012-13."
      ]
    },
    {
      "cell_type": "code",
      "source": [
        "df.head(2)"
      ],
      "metadata": {
        "colab": {
          "base_uri": "https://localhost:8080/",
          "height": 156
        },
        "id": "ojk_zl8g7mh8",
        "outputId": "578a1f67-49b5-4871-f18c-653048e92ab9"
      },
      "execution_count": null,
      "outputs": [
        {
          "output_type": "execute_result",
          "data": {
            "text/plain": [
              "                   Category                 Segment   2001-02   2002-03  \\\n",
              "0  Passenger Vehicles (PVs)          Passenger Cars  500301.0  557410.0   \n",
              "1  Passenger Vehicles (PVs)  Multi-Utility Vehicles  169418.0  165920.0   \n",
              "\n",
              "    2003-04   2004-05    2005-06  2006-07  2007-08  2008-09  2009-10  \\\n",
              "0  782562.0  960487.0  1046133.0  1238032  1426212  1516967  1932620   \n",
              "1  206998.0  249389.0   263167.0   307202   351371   321626   424791   \n",
              "\n",
              "     2010-11    2011-12    2012-13  \n",
              "0  2453113.0  2775124.0  2668633.0  \n",
              "1   534183.0   370945.0   564928.0  "
            ],
            "text/html": [
              "\n",
              "  <div id=\"df-0d275c0c-a948-4b17-8e3c-8f46ed685120\">\n",
              "    <div class=\"colab-df-container\">\n",
              "      <div>\n",
              "<style scoped>\n",
              "    .dataframe tbody tr th:only-of-type {\n",
              "        vertical-align: middle;\n",
              "    }\n",
              "\n",
              "    .dataframe tbody tr th {\n",
              "        vertical-align: top;\n",
              "    }\n",
              "\n",
              "    .dataframe thead th {\n",
              "        text-align: right;\n",
              "    }\n",
              "</style>\n",
              "<table border=\"1\" class=\"dataframe\">\n",
              "  <thead>\n",
              "    <tr style=\"text-align: right;\">\n",
              "      <th></th>\n",
              "      <th>Category</th>\n",
              "      <th>Segment</th>\n",
              "      <th>2001-02</th>\n",
              "      <th>2002-03</th>\n",
              "      <th>2003-04</th>\n",
              "      <th>2004-05</th>\n",
              "      <th>2005-06</th>\n",
              "      <th>2006-07</th>\n",
              "      <th>2007-08</th>\n",
              "      <th>2008-09</th>\n",
              "      <th>2009-10</th>\n",
              "      <th>2010-11</th>\n",
              "      <th>2011-12</th>\n",
              "      <th>2012-13</th>\n",
              "    </tr>\n",
              "  </thead>\n",
              "  <tbody>\n",
              "    <tr>\n",
              "      <th>0</th>\n",
              "      <td>Passenger Vehicles (PVs)</td>\n",
              "      <td>Passenger Cars</td>\n",
              "      <td>500301.0</td>\n",
              "      <td>557410.0</td>\n",
              "      <td>782562.0</td>\n",
              "      <td>960487.0</td>\n",
              "      <td>1046133.0</td>\n",
              "      <td>1238032</td>\n",
              "      <td>1426212</td>\n",
              "      <td>1516967</td>\n",
              "      <td>1932620</td>\n",
              "      <td>2453113.0</td>\n",
              "      <td>2775124.0</td>\n",
              "      <td>2668633.0</td>\n",
              "    </tr>\n",
              "    <tr>\n",
              "      <th>1</th>\n",
              "      <td>Passenger Vehicles (PVs)</td>\n",
              "      <td>Multi-Utility Vehicles</td>\n",
              "      <td>169418.0</td>\n",
              "      <td>165920.0</td>\n",
              "      <td>206998.0</td>\n",
              "      <td>249389.0</td>\n",
              "      <td>263167.0</td>\n",
              "      <td>307202</td>\n",
              "      <td>351371</td>\n",
              "      <td>321626</td>\n",
              "      <td>424791</td>\n",
              "      <td>534183.0</td>\n",
              "      <td>370945.0</td>\n",
              "      <td>564928.0</td>\n",
              "    </tr>\n",
              "  </tbody>\n",
              "</table>\n",
              "</div>\n",
              "      <button class=\"colab-df-convert\" onclick=\"convertToInteractive('df-0d275c0c-a948-4b17-8e3c-8f46ed685120')\"\n",
              "              title=\"Convert this dataframe to an interactive table.\"\n",
              "              style=\"display:none;\">\n",
              "        \n",
              "  <svg xmlns=\"http://www.w3.org/2000/svg\" height=\"24px\"viewBox=\"0 0 24 24\"\n",
              "       width=\"24px\">\n",
              "    <path d=\"M0 0h24v24H0V0z\" fill=\"none\"/>\n",
              "    <path d=\"M18.56 5.44l.94 2.06.94-2.06 2.06-.94-2.06-.94-.94-2.06-.94 2.06-2.06.94zm-11 1L8.5 8.5l.94-2.06 2.06-.94-2.06-.94L8.5 2.5l-.94 2.06-2.06.94zm10 10l.94 2.06.94-2.06 2.06-.94-2.06-.94-.94-2.06-.94 2.06-2.06.94z\"/><path d=\"M17.41 7.96l-1.37-1.37c-.4-.4-.92-.59-1.43-.59-.52 0-1.04.2-1.43.59L10.3 9.45l-7.72 7.72c-.78.78-.78 2.05 0 2.83L4 21.41c.39.39.9.59 1.41.59.51 0 1.02-.2 1.41-.59l7.78-7.78 2.81-2.81c.8-.78.8-2.07 0-2.86zM5.41 20L4 18.59l7.72-7.72 1.47 1.35L5.41 20z\"/>\n",
              "  </svg>\n",
              "      </button>\n",
              "      \n",
              "  <style>\n",
              "    .colab-df-container {\n",
              "      display:flex;\n",
              "      flex-wrap:wrap;\n",
              "      gap: 12px;\n",
              "    }\n",
              "\n",
              "    .colab-df-convert {\n",
              "      background-color: #E8F0FE;\n",
              "      border: none;\n",
              "      border-radius: 50%;\n",
              "      cursor: pointer;\n",
              "      display: none;\n",
              "      fill: #1967D2;\n",
              "      height: 32px;\n",
              "      padding: 0 0 0 0;\n",
              "      width: 32px;\n",
              "    }\n",
              "\n",
              "    .colab-df-convert:hover {\n",
              "      background-color: #E2EBFA;\n",
              "      box-shadow: 0px 1px 2px rgba(60, 64, 67, 0.3), 0px 1px 3px 1px rgba(60, 64, 67, 0.15);\n",
              "      fill: #174EA6;\n",
              "    }\n",
              "\n",
              "    [theme=dark] .colab-df-convert {\n",
              "      background-color: #3B4455;\n",
              "      fill: #D2E3FC;\n",
              "    }\n",
              "\n",
              "    [theme=dark] .colab-df-convert:hover {\n",
              "      background-color: #434B5C;\n",
              "      box-shadow: 0px 1px 3px 1px rgba(0, 0, 0, 0.15);\n",
              "      filter: drop-shadow(0px 1px 2px rgba(0, 0, 0, 0.3));\n",
              "      fill: #FFFFFF;\n",
              "    }\n",
              "  </style>\n",
              "\n",
              "      <script>\n",
              "        const buttonEl =\n",
              "          document.querySelector('#df-0d275c0c-a948-4b17-8e3c-8f46ed685120 button.colab-df-convert');\n",
              "        buttonEl.style.display =\n",
              "          google.colab.kernel.accessAllowed ? 'block' : 'none';\n",
              "\n",
              "        async function convertToInteractive(key) {\n",
              "          const element = document.querySelector('#df-0d275c0c-a948-4b17-8e3c-8f46ed685120');\n",
              "          const dataTable =\n",
              "            await google.colab.kernel.invokeFunction('convertToInteractive',\n",
              "                                                     [key], {});\n",
              "          if (!dataTable) return;\n",
              "\n",
              "          const docLinkHtml = 'Like what you see? Visit the ' +\n",
              "            '<a target=\"_blank\" href=https://colab.research.google.com/notebooks/data_table.ipynb>data table notebook</a>'\n",
              "            + ' to learn more about interactive tables.';\n",
              "          element.innerHTML = '';\n",
              "          dataTable['output_type'] = 'display_data';\n",
              "          await google.colab.output.renderOutput(dataTable, element);\n",
              "          const docLink = document.createElement('div');\n",
              "          docLink.innerHTML = docLinkHtml;\n",
              "          element.appendChild(docLink);\n",
              "        }\n",
              "      </script>\n",
              "    </div>\n",
              "  </div>\n",
              "  "
            ]
          },
          "metadata": {},
          "execution_count": 93
        }
      ]
    },
    {
      "cell_type": "code",
      "execution_count": null,
      "metadata": {
        "id": "wIGj8I2sBv5V",
        "colab": {
          "base_uri": "https://localhost:8080/",
          "height": 513
        },
        "outputId": "ecc21cbf-f0a4-4505-8714-f208347d77dd"
      },
      "outputs": [
        {
          "output_type": "display_data",
          "data": {
            "text/plain": [
              "<Figure size 864x576 with 1 Axes>"
            ],
            "image/png": "[encoded data removed]"
          },
          "metadata": {
            "needs_background": "light"
          }
        }
      ],
      "source": [
        "x1 = new_df.columns\n",
        "y1 = new_df.iloc[df.index[df['Segment'] == 'Passenger Cars']].values.flatten().tolist()\n",
        "y2 = new_df.iloc[df.index[df['Segment'] == 'Multi-Utility Vehicles']].values.flatten().tolist()\n",
        "\n",
        "barWidth = 0.25\n",
        "fig = plt.subplots(figsize =(12, 8))\n",
        "br1 = np.arange(len(y1))\n",
        "br2 = [x + barWidth for x in br1]\n",
        "\n",
        " \n",
        "# Make the plot\n",
        "plt.bar(br1, y1, color ='royalblue', width = barWidth,\n",
        "        edgecolor ='grey', label ='Passenger Cars')\n",
        "plt.bar(br2, y2, color ='orange', width = barWidth,\n",
        "        edgecolor ='grey', label ='Multi-Utility Vehicles')\n",
        " \n",
        "# Adding Xticks\n",
        "plt.xlabel('Year wise production', fontweight ='bold', fontsize = 15)\n",
        "plt.ylabel('Numbers Produced(in lakhs)', fontweight ='bold', fontsize = 15)\n",
        "plt.xticks([r + barWidth for r in range(len(y1))],\n",
        "        new_df.columns)\n",
        " \n",
        "plt.legend()\n",
        "plt.show()"
      ]
    },
    {
      "cell_type": "code",
      "source": [
        "# Creation of Data\n",
        "x1 = new_df.columns\n",
        "y1 = new_df.iloc[df.index[df['Segment'] == 'Passenger Cars']].values.flatten().tolist()\n",
        "y2 = new_df.iloc[df.index[df['Segment'] == 'Multi-Utility Vehicles']].values.flatten().tolist()\n",
        "  \n",
        "# Plotting the Data\n",
        "plt.plot(x1, y1, label='Passenger Cars')\n",
        "plt.plot(x1, y2, label='Multi-Utility Vehicles')\n",
        "  \n",
        "plt.xlabel('Yearwise Production')\n",
        "plt.ylabel('Numbers Produced(in lakhs)')\n",
        "plt.title(\"Passenger Vehicle Yearwise Trend\")\n",
        " \n",
        "plt.rcParams[\"figure.figsize\"] = (20,8) \n",
        "plt.plot(y1, color = 'royalblue', linewidth = 3)\n",
        "plt.plot(y2, color = 'orange')\n",
        "  \n",
        "plt.legend()\n"
      ],
      "metadata": {
        "colab": {
          "base_uri": "https://localhost:8080/",
          "height": 530
        },
        "id": "7kRyexep8pMs",
        "outputId": "287e7a21-0a1c-43cd-8771-303a6d462110"
      },
      "execution_count": null,
      "outputs": [
        {
          "output_type": "execute_result",
          "data": {
            "text/plain": [
              "<matplotlib.legend.Legend at 0x7f5d8bd33110>"
            ]
          },
          "metadata": {},
          "execution_count": 95
        },
        {
          "output_type": "display_data",
          "data": {
            "text/plain": [
              "<Figure size 1440x576 with 1 Axes>"
            ],
            "image/png": "[encoded data removed]"
          },
          "metadata": {
            "needs_background": "light"
          }
        }
      ]
    },
    {
      "cell_type": "code",
      "execution_count": null,
      "metadata": {
        "id": "BdQ0_64nBv5W",
        "colab": {
          "base_uri": "https://localhost:8080/"
        },
        "outputId": "4ba019ad-b0de-471c-c57f-ff344b9c35fe"
      },
      "outputs": [
        {
          "output_type": "stream",
          "name": "stdout",
          "text": [
            "In percentage terms, the growth of production of passenger cars in India was  81.25253641096396  during the period from 2001-02 to 2012-13\n",
            "In percentage terms, the growth the production of Multi-Utility Vehicles in India was  70.01069162795966  during the period from 2001-02 to 2012-13\n"
          ]
        }
      ],
      "source": [
        "# Calculating percentage\n",
        "\n",
        "## Passenger Vehicles 2001-02 to 2012-13.\n",
        "pv_df = new_df.iloc[df.index[df['Segment'] == 'Passenger Cars']]\n",
        "percentage = ((pv_df['2012-13'] - pv_df['2001-02'])/pv_df['2012-13']) * 100\n",
        "print('In percentage terms, the growth of production of passenger cars in India was ', percentage.values[0],' during the period from 2001-02 to 2012-13')\n",
        "\n",
        "## Commercial Vehicles 2001-02 to 2012-13.\n",
        "cv_df = new_df.iloc[df.index[df['Segment'] == 'Multi-Utility Vehicles']]\n",
        "percentage = ((cv_df['2012-13'] - cv_df['2001-02'])/cv_df['2012-13']) * 100\n",
        "print('In percentage terms, the growth the production of Multi-Utility Vehicles in India was ', percentage.values[0],' during the period from 2001-02 to 2012-13')"
      ]
    },
    {
      "cell_type": "markdown",
      "source": [
        "1. Summarise your findings from the visual: \n",
        "> *   Passenger Cars segment grew faster during the period 2001-13 than Multi Utility Vehicles.\n",
        "> *   Both segments showed an opposite trend during the period 2010-13. When Passenger car grew, multi-utility fell where as when Multi-Utility grew Passenger car fell.\n",
        "> *   Passenger cars saw the fastest growth during 2008-12 where as Multi-Utility vehicles saw fastest growth during 2008-11.\n",
        "2. The reason for selecting the chart type you did: This chart shows a year wise trend comparison between both the segments. \n",
        "3. Mention the pre-attentive attributes used.(atleast 2):\n",
        "> *  Color\n",
        "> *  Size\n",
        "\n",
        "4. Mention the gestalt principles used.(atleast 2): \n",
        "> *  Figure and Ground\n",
        "> *  Continuity "
      ],
      "metadata": {
        "id": "FQPzEY7bccwI"
      }
    },
    {
      "cell_type": "markdown",
      "metadata": {
        "id": "ruJ-tWaABv5W"
      },
      "source": [
        "### Question 3\n",
        "<h4>Compare the production of 2 wheeler and three wheelers in India from 2001-02 to 2012-13, in a single visual.<br><br>\n",
        "    Write the python code in the below cell to create appropriate visual to perform the above task.\n",
        "<h4>Answer in markdown cells below the visual <br><br>\n",
        "    1.Summarise your findings from the visual.<br>\n",
        "    2.The reason for selecting the chart type you did. <br>\n",
        "    3.Mention the pre-attentive attributes used.(atleast 2)<br>\n",
        "    4.Mention the gestalt principles used.(atleast 2)<br>\n",
        "    "
      ]
    },
    {
      "cell_type": "code",
      "execution_count": null,
      "metadata": {
        "id": "LDkyuVzWBv5X",
        "colab": {
          "base_uri": "https://localhost:8080/",
          "height": 513
        },
        "outputId": "c3c2488a-63c2-4c0b-9e32-e4b2adfe9cd1"
      },
      "outputs": [
        {
          "output_type": "display_data",
          "data": {
            "text/plain": [
              "<Figure size 864x576 with 1 Axes>"
            ],
            "image/png": "[encoded data removed]"
          },
          "metadata": {
            "needs_background": "light"
          }
        }
      ],
      "source": [
        "x1 = new_df.columns\n",
        "y1 = new_df.iloc[df.index[df['Segment'] == 'Total Two wheelers']].values.flatten().tolist()\n",
        "y2 = new_df.iloc[df.index[df['Segment'] == 'Total Three Wheelers']].values.flatten().tolist()\n",
        "\n",
        "barWidth = 0.25\n",
        "fig = plt.subplots(figsize =(12, 8))\n",
        "br1 = np.arange(len(y1))\n",
        "br2 = [x + barWidth for x in br1]\n",
        "\n",
        " \n",
        "# Make the plot\n",
        "plt.bar(br1, y1, color ='royalblue', width = barWidth,\n",
        "        edgecolor ='grey', label ='Total Two Wheelers')\n",
        "plt.bar(br2, y2, color ='orange', width = barWidth,\n",
        "        edgecolor ='grey', label ='Total Three Wheelers')\n",
        " \n",
        "# Adding Xticks\n",
        "plt.xlabel('Year wise production', fontweight ='bold', fontsize = 15)\n",
        "plt.ylabel('Numbers Produced(in millions)', fontweight ='bold', fontsize = 15)\n",
        "plt.xticks([r + barWidth for r in range(len(y1))],\n",
        "        new_df.columns)\n",
        " \n",
        "plt.legend()\n",
        "plt.show()"
      ]
    },
    {
      "cell_type": "markdown",
      "source": [
        "1.Summarise your findings from the visual.\n",
        "> * Number of two wheeler saw an steady growth except a dip in 2007-08.\n",
        "> * Two Wheelers saw it fastest growth in the period 2008-12.\n",
        "> * Three Wheelers saw a dip in the period 2007-09 and again in 2012-13.\n",
        "> * The ratio between numbers of Two Wheelers and Three wheelers has been close to 12:1.\n",
        "2.The reason for selecting the chart type you did: It provides a side by side year wise comparison of both the categories.\n",
        "3.Mention the pre-attentive attributes used.(atleast 2): \n",
        "> * Color\n",
        "> * Length: Length of each bar gives an impression of the volume produced.\n",
        "4.Mention the gestalt principles used.(atleast 2): \n",
        "> * Proximity\n",
        "> * Figure and Ground"
      ],
      "metadata": {
        "id": "xCuBjeJQh10o"
      }
    },
    {
      "cell_type": "markdown",
      "metadata": {
        "id": "m-iQi3H1Bv5Y"
      },
      "source": [
        "### Question 4\n",
        "<h4>Analyse the two wheeler production in India(segment wise) during 2001-02 to 2012-13.<br><br>\n",
        "    Write the python code in the below cell to create the appropriate visual(single visual) to perform the above task .\n",
        "<h4>Answer in markdown cells below the visual <br><br>\n",
        "    1.Summarise your findings from the visual.<br>\n",
        "    2.The reason for selecting the chart type you did. <br>\n",
        "    3.Mention the pre-attentive attributes used.(atleast 2)<br>\n",
        "    4.Mention the gestalt principles used.(atleast 2)<br>\n",
        "    "
      ]
    },
    {
      "cell_type": "code",
      "execution_count": null,
      "metadata": {
        "id": "Hf4uMET-Bv5Y",
        "colab": {
          "base_uri": "https://localhost:8080/",
          "height": 530
        },
        "outputId": "19f3ce4d-274b-46b3-bee6-78b589bfa9bd"
      },
      "outputs": [
        {
          "output_type": "execute_result",
          "data": {
            "text/plain": [
              "<matplotlib.legend.Legend at 0x7f5d8b879990>"
            ]
          },
          "metadata": {},
          "execution_count": 98
        },
        {
          "output_type": "display_data",
          "data": {
            "text/plain": [
              "<Figure size 1440x576 with 1 Axes>"
            ],
            "image/png": "[encoded data removed]"
          },
          "metadata": {
            "needs_background": "light"
          }
        }
      ],
      "source": [
        "# Creation of Data\n",
        "x1 = new_df.columns\n",
        "y1 = new_df.iloc[df.index[df['Segment'] == 'Scooter/Scooterettee']].values.flatten().tolist()\n",
        "y2 = new_df.iloc[df.index[df['Segment'] == 'Motorcycles/Step-Throughs']].values.flatten().tolist()\n",
        "y3 = new_df.iloc[df.index[df['Segment'] == 'Mopeds']].values.flatten().tolist()\n",
        "y4 = new_df.iloc[df.index[df['Segment'] == 'Electric Two Wheelers']].values.flatten().tolist()\n",
        "  \n",
        "\n",
        "  \n",
        "plt.xlabel('Yearwise Production')\n",
        "plt.ylabel('Numbers Produced(in 10 millions)')\n",
        "plt.title(\"Two Wheelers Yearwise Trend\")\n",
        " \n",
        "plt.rcParams[\"figure.figsize\"] = (20,8) \n",
        "\n",
        "# Plotting the Data\n",
        "plt.plot(x1, y1, label='Scooter/Scooterettee', color='c')\n",
        "plt.plot(x1, y2, label='Motorcycles/Step-Throughs', color='royalblue', linewidth=3)\n",
        "plt.plot(x1, y3, label='Mopeds',  color='orange')\n",
        "plt.plot(x1, y4, label='Electric Two Wheelers', color='green')\n",
        "\n",
        "plt.legend()\n",
        "  \n"
      ]
    },
    {
      "cell_type": "markdown",
      "source": [
        "1.Summarise your findings from the visual.\n",
        "> * Motorcycles/Step-Throughs segment registered a substantially faster growth than any other segment.\n",
        "> * Mopeds production remained approximately same throughtout the period of 2001-13.\n",
        "> * Scooter/Scooterettee segment showed significant growth only in the period 2009-13. \n",
        "> * Electric Two Wheelers production remained almost consistent throughout the period 2006-10.\n",
        "> * Numbers of Motorcycles/Step-Throughs is substantially higher than any other sector.\n",
        "2.The reason for selecting the chart type you did: This chart gives a better visual of the yearwise trend of each segment while providing a inter segment comparison as well. \n",
        "3.Mention the pre-attentive attributes used.(atleast 2):\n",
        "> * Color\n",
        "> * Size\n",
        "4.Mention the gestalt principles used.(atleast 2\n",
        "> *  Figure and Ground\n",
        "> *  Continuity "
      ],
      "metadata": {
        "id": "nlByUktIkn2W"
      }
    },
    {
      "cell_type": "markdown",
      "metadata": {
        "id": "BfF6-kAJBv5Y"
      },
      "source": [
        "### Question 5"
      ]
    },
    {
      "cell_type": "markdown",
      "metadata": {
        "id": "NPJ0V7TIBv5Z"
      },
      "source": [
        "<h4>Analyse the three wheeler production in India(segment wise) during 2001-02 to 2012-13.<br><br>\n",
        "    Write the python code in the below cell to create the appropriate visual(single visual) to perform the above task .\n",
        "<h4>Answer in markdown cells below the visual <br><br>\n",
        "    1.Summarise your findings from the visual.<br>\n",
        "    2.The reason for selecting the chart type you did. <br>\n",
        "    3.Mention the pre-attentive attributes used.(atleast 2)<br>\n",
        "    4.Mention the gestalt principles used.(atleast 2)<br>\n",
        "    "
      ]
    },
    {
      "cell_type": "code",
      "source": [
        "# Creation of Data\n",
        "x1 = new_df.columns\n",
        "y1 = new_df.iloc[df.index[(df['Segment'] == 'Passenger Carriers') & (df['Category'] == 'Three Wheelers')]].values.flatten().tolist()\n",
        "y2 = new_df.iloc[df.index[(df['Segment'] == 'Goods Carriers') & (df['Category'] == 'Three Wheelers')]].values.flatten().tolist()\n",
        "  \n",
        "# Plotting the Data\n",
        "plt.plot(x1, y1, label='Passenger Carriers', linewidth=3)\n",
        "plt.plot(x1, y2, label='Goods Carriers')\n",
        "  \n",
        "plt.xlabel('Yearwise Production')\n",
        "plt.ylabel('Numbers Produced')\n",
        "plt.title(\"Three Wheelers Yearwise Trend\")\n",
        " \n",
        "plt.rcParams[\"figure.figsize\"] = (20,8) \n",
        "  \n",
        "plt.legend()"
      ],
      "metadata": {
        "colab": {
          "base_uri": "https://localhost:8080/",
          "height": 530
        },
        "id": "1OGhCM4fHjJR",
        "outputId": "070d946e-3170-4125-9cf3-7bc730ea995d"
      },
      "execution_count": null,
      "outputs": [
        {
          "output_type": "execute_result",
          "data": {
            "text/plain": [
              "<matplotlib.legend.Legend at 0x7f5d8e24f390>"
            ]
          },
          "metadata": {},
          "execution_count": 99
        },
        {
          "output_type": "display_data",
          "data": {
            "text/plain": [
              "<Figure size 1440x576 with 1 Axes>"
            ],
            "image/png": "[encoded data removed]"
          },
          "metadata": {
            "needs_background": "light"
          }
        }
      ]
    },
    {
      "cell_type": "markdown",
      "source": [
        "1.Summarise your findings from the visual:\n",
        "> * Both the segment showed an opposite trend during 2007-10.\n",
        "> * Passenger Carrier has overall faster growth than Goods Carriers. \n",
        "2.The reason for selecting the chart type you did: This chart gives an overall trend comparison between both the segments.\n",
        "3.Mention the pre-attentive attributes used.(atleast 2): \n",
        "> * Color\n",
        "> * Size\n",
        "4.Mention the gestalt principles used.(atleast 2)\n",
        "> * Continuity\n",
        "> * Figure and Ground"
      ],
      "metadata": {
        "id": "PKmyDwWRr_H8"
      }
    },
    {
      "cell_type": "markdown",
      "metadata": {
        "id": "5ZNmwR1HBv5a"
      },
      "source": [
        " # Group's choice-2 Marks\n",
        " \n",
        "#### Frame 1 (more) question which will help in the EDA(Exploratory Data Analysis) of the given data set and answer the same using the best visual.\n",
        " \n",
        " 1. Write the question in a markdown cell\n",
        " 2. Below the question, in a coding cell, write the python code to create the visual to answer the question  \n",
        "\n",
        "<h4> Answer in markdown cells below the visual <br><br>\n",
        "   1.Summarise your findings from the visual.<br>\n",
        "   2.The reason for selecting the chart type you did. <br>\n",
        "   3.Mention the pre-attentive attributes used.(atleast 2)<br>\n",
        "   4.Mention the gestalt principles used.(atleast 2)<br>\n",
        "  "
      ]
    },
    {
      "cell_type": "markdown",
      "source": [
        "Question: Analyse the yearwise trend of M & HCVs and LCVs."
      ],
      "metadata": {
        "id": "Ie8Sh-v0v_cC"
      }
    },
    {
      "cell_type": "code",
      "execution_count": null,
      "metadata": {
        "id": "9TEyfaZLBv5b",
        "colab": {
          "base_uri": "https://localhost:8080/",
          "height": 530
        },
        "outputId": "926fa4ca-c42b-4aae-b8b5-92f6f4acfdd9"
      },
      "outputs": [
        {
          "output_type": "execute_result",
          "data": {
            "text/plain": [
              "<matplotlib.legend.Legend at 0x7f5d8b758650>"
            ]
          },
          "metadata": {},
          "execution_count": 100
        },
        {
          "output_type": "display_data",
          "data": {
            "text/plain": [
              "<Figure size 1440x576 with 1 Axes>"
            ],
            "image/png": "[encoded data removed]"
          },
          "metadata": {
            "needs_background": "light"
          }
        }
      ],
      "source": [
        "# Creation of Data\n",
        "x1 = new_df.columns\n",
        "y1 = new_df.iloc[df.index[df['Segment'] == 'Total M & HCVs']].values.flatten().tolist()\n",
        "y2 = new_df.iloc[df.index[df['Segment'] == 'Total LCVs']].values.flatten().tolist()\n",
        "  \n",
        "# Plotting the Data\n",
        "plt.plot(x1, y1, label='M & HCVs', color='lightgrey')\n",
        "plt.plot(x1, y2, label='LCVs', color='royalblue', linewidth=3)\n",
        "  \n",
        "plt.xlabel('Yearwise Production')\n",
        "plt.ylabel('Numbers Produced')\n",
        "plt.title(\"Heavy, Mid and Light CVs Yearwise Trend\")\n",
        " \n",
        "plt.rcParams[\"figure.figsize\"] = (20,8) \n",
        "  \n",
        "plt.legend()"
      ]
    },
    {
      "cell_type": "markdown",
      "source": [
        "1.Summarise your findings from the visual: \n",
        "> * Both the segments showed a similar growth rate between year 2001-05.\n",
        "> * LCVs surpasses M & HCVs between 2008-09. Post that, LCVs showed a higher growth rate. \n",
        "\n",
        "2.The reason for selecting the chart type you did: As the intention was to analyse yearwise trend, trend lines suited best for it. \n",
        "3.Mention the pre-attentive attributes used.(atleast 2): \n",
        "> * Color\n",
        "> * Size\n",
        "4.Mention the gestalt principles used.(atleast 2)\n",
        "> * Continuity\n",
        "> * Figure and Ground"
      ],
      "metadata": {
        "id": "nzFCm0bLwa18"
      }
    },
    {
      "cell_type": "markdown",
      "metadata": {
        "id": "4ItGgo4oBv5b"
      },
      "source": [
        "<h1><center> ************ END OF ASSIGNMENT ****************</center></h1>"
      ]
    }
  ],
  "metadata": {
    "anaconda-cloud": {},
    "kernelspec": {
      "display_name": "Python 3",
      "language": "python",
      "name": "python3"
    },
    "language_info": {
      "codemirror_mode": {
        "name": "ipython",
        "version": 3
      },
      "file_extension": ".py",
      "mimetype": "text/x-python",
      "name": "python",
      "nbconvert_exporter": "python",
      "pygments_lexer": "ipython3",
      "version": "3.7.3"
    },
    "colab": {
      "name": "dvi_a2_ps6_wb.ipynb",
      "provenance": [],
      "collapsed_sections": [],
      "include_colab_link": true
    }
  },
  "nbformat": 4,
  "nbformat_minor": 0
}